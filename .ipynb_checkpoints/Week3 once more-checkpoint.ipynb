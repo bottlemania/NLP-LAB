{
 "cells": [
  {
   "cell_type": "code",
   "execution_count": 1,
   "id": "12d0a62b",
   "metadata": {},
   "outputs": [],
   "source": [
    "import nltk\n",
    "from nltk.tokenize import word_tokenize"
   ]
  },
  {
   "cell_type": "code",
   "execution_count": 2,
   "id": "b42aeef8",
   "metadata": {},
   "outputs": [],
   "source": [
    "def generate_bigrams(words):\n",
    "    bigrams = [(words[i], words[i+1]) for i in range(len(words)-1)]\n",
    "    return bigrams"
   ]
  },
  {
   "cell_type": "code",
   "execution_count": 10,
   "id": "c9ab1aa6",
   "metadata": {},
   "outputs": [],
   "source": [
    "paragraph = open(r\"E:\\125003105\\dataset_AI.txt\", 'r').read()"
   ]
  },
  {
   "cell_type": "code",
   "execution_count": 11,
   "id": "0c61d9c6",
   "metadata": {},
   "outputs": [],
   "source": [
    "words = word_tokenize(paragraph)\n",
    "bigrams = generate_bigrams(words)"
   ]
  },
  {
   "cell_type": "code",
   "execution_count": 12,
   "id": "8eff22e5",
   "metadata": {},
   "outputs": [],
   "source": [
    "bigram_frequency = {}\n",
    "for bigram in bigrams:\n",
    "    bigram_frequency[bigram]=0\n",
    "for bigram in bigrams:\n",
    "    bigram_frequency[bigram] = bigram_frequency[bigram] + 1"
   ]
  },
  {
   "cell_type": "code",
   "execution_count": 13,
   "id": "7cf8cbad",
   "metadata": {},
   "outputs": [],
   "source": [
    "sorted_bigrams = sorted(bigram_frequency.items(), reverse=True, key=lambda x: x[1])"
   ]
  },
  {
   "cell_type": "code",
   "execution_count": 24,
   "id": "0f81dd4e",
   "metadata": {},
   "outputs": [],
   "source": [
    "top_three_bigrams_freq = {bigram[0] : bigram[1] for bigram in sorted_bigrams[:3]}\n",
    "top_three_bigrams=[bigram[0] for bigram in sorted_bigrams[:3]]"
   ]
  },
  {
   "cell_type": "code",
   "execution_count": 25,
   "id": "0cb936c6",
   "metadata": {},
   "outputs": [
    {
     "name": "stdout",
     "output_type": "stream",
     "text": [
      "[(',', 'and'), ('of', 'AI'), ('Artificial', 'Intelligence')]\n"
     ]
    }
   ],
   "source": [
    "print(top_three_bigrams)"
   ]
  },
  {
   "cell_type": "code",
   "execution_count": 19,
   "id": "dd255c53",
   "metadata": {},
   "outputs": [],
   "source": [
    "def Chi_square(observed,expected):\n",
    "    if(expected==0):\n",
    "        chi_square_val=0\n",
    "        return chi_square_val\n",
    "    chi_square_val=((observed-expected)**2)/expected\n",
    "    return chi_square_val\n",
    "\n",
    "def T_Test(observed,expected,variance,n):\n",
    "    if(variance==0):\n",
    "        T_val=0\n",
    "        return T_val \n",
    "    T_val=(observed-expected)/(variance / n)**0.5\n",
    "    return T_val\n"
   ]
  },
  {
   "cell_type": "code",
   "execution_count": 27,
   "id": "5929e414",
   "metadata": {},
   "outputs": [],
   "source": [
    "def print_vals(i):\n",
    "    total_bigrams = len(bigrams)\n",
    "    expected_freq = (words.count(top_three_bigrams[i][0]) / len(words)) * (words.count(top_three_bigrams[i][1]) / len(words)) \n",
    "\n",
    "    variance=top_three_bigrams_freq[top_three_bigrams[i]]\n",
    "    bigram_freq=variance\n",
    "    t_value = T_Test(bigram_freq, expected_freq, variance, total_bigrams)\n",
    "    chi_square_val = Chi_square(bigram_freq, expected_freq)\n",
    "\n",
    "\n",
    "    print(t_value)\n",
    "    print(chi_square_val)"
   ]
  },
  {
   "cell_type": "code",
   "execution_count": 29,
   "id": "6d4bfbb5",
   "metadata": {},
   "outputs": [
    {
     "name": "stdout",
     "output_type": "stream",
     "text": [
      "For 1 top bigram\n",
      "76.72098112675609\n",
      "30249.56852103968\n",
      "For 2 top bigram\n",
      "59.43772150473996\n",
      "36630.1062456342\n",
      "For 3 top bigram\n",
      "48.538086642868016\n",
      "348092.00004596385\n"
     ]
    }
   ],
   "source": [
    "for i in range(3):\n",
    "    print(f\"For {i+1} top bigram\")\n",
    "    print_vals(i)"
   ]
  },
  {
   "cell_type": "code",
   "execution_count": null,
   "id": "ea596296",
   "metadata": {},
   "outputs": [],
   "source": []
  }
 ],
 "metadata": {
  "kernelspec": {
   "display_name": "Python 3",
   "language": "python",
   "name": "python3"
  },
  "language_info": {
   "codemirror_mode": {
    "name": "ipython",
    "version": 3
   },
   "file_extension": ".py",
   "mimetype": "text/x-python",
   "name": "python",
   "nbconvert_exporter": "python",
   "pygments_lexer": "ipython3",
   "version": "3.8.8"
  }
 },
 "nbformat": 4,
 "nbformat_minor": 5
}
