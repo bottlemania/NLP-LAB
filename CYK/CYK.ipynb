{
 "cells": [
  {
   "cell_type": "code",
   "execution_count": 2,
   "id": "603e196b-0a20-4cd3-9f17-b7376f6d00c7",
   "metadata": {},
   "outputs": [
    {
     "name": "stdout",
     "output_type": "stream",
     "text": [
      "{'S': [(['NP', 'VP'], 1.0)], 'PP': [(['P', 'NP'], 1.0)], 'VP': [(['V', 'NP'], 0.7), (['VP', 'PP'], 0.3)], 'P': [(['with'], 1.0)], 'V': [(['saw'], 1.0)], 'NP': [(['NP', 'PP'], 0.4), (['astronomers'], 0.1), (['ears'], 0.18), (['saw'], 0.04), (['stars'], 0.18), (['telescopes'], 0.1)]}\n",
      "(S\n",
      "  (NP astronomers)\n",
      "  (VP (V saw) (NP (NP stars) (PP (P with) (NP ears))))) (p=0.0009072)\n",
      "                            S                                        \n",
      "     ┌──────────────────────┴─────────┐                                    \n",
      "     │                                VP                             \n",
      "     │            ┌───────────────────┴────────┐                           \n",
      "     │            │                            NP                    \n",
      "     │            │         ┌──────────────────┴─────────┐                 \n",
      "     │            │         │                            PP          \n",
      "     │            │         │                  ┌─────────┴────────┐        \n",
      "     NP           V         NP                 P                  NP \n",
      "     │            │         │                  │                  │        \n",
      "astronomers      saw      stars               with               ears\n",
      "\n",
      "(S\n",
      "  (NP astronomers)\n",
      "  (VP (VP (V saw) (NP stars)) (PP (P with) (NP ears)))) (p=0.0006804)\n",
      "                                     S                                        \n",
      "     ┌───────────────────────────────┴─────────┐                                    \n",
      "     │                                         VP                             \n",
      "     │                     ┌───────────────────┴──────────────────┐                 \n",
      "     │                     VP                                     PP          \n",
      "     │            ┌────────┴─────────┐                  ┌─────────┴────────┐        \n",
      "     NP           V                  NP                 P                  NP \n",
      "     │            │                  │                  │                  │        \n",
      "astronomers      saw               stars               with               ears\n",
      "\n"
     ]
    }
   ],
   "source": [
    "import nltk\n",
    "from nltk.parse import pchart\n",
    "grammar = nltk.PCFG.fromstring(\"\"\"\n",
    "    S -> NP VP [1.0]\n",
    "    PP -> P NP [1.0]\n",
    "    VP -> V NP [0.7] \n",
    "    VP -> VP PP [0.3]\n",
    "    P -> 'with' [1.0]\n",
    "    V -> 'saw' [1.0]\n",
    "    NP -> NP PP [0.4]\n",
    "    NP -> 'astronomers' [0.1]\n",
    "    NP -> 'ears' [0.18]\n",
    "    NP -> 'saw' [0.04]\n",
    "    NP -> 'stars' [0.18]\n",
    "    NP -> 'telescopes' [0.1]\n",
    "\n",
    "    \"\"\")\n",
    "\n",
    "# Convert the NLTK PCFG grammar to a Python dictionary\n",
    "pcfg_dict = {}\n",
    "for production in grammar.productions():\n",
    "    lhs = str(production.lhs())\n",
    "    rhs = [str(sym) for sym in production.rhs()]\n",
    "    prob = production.prob()\n",
    "    \n",
    "    if lhs in pcfg_dict:\n",
    "        pcfg_dict[lhs].append((rhs, prob))\n",
    "    else:\n",
    "        pcfg_dict[lhs] = [(rhs, prob)]\n",
    "\n",
    "print(pcfg_dict)\n",
    "sentence = \"astronomers saw stars with ears\".split(\" \")\n",
    "\n",
    "parser = pchart.InsideChartParser(grammar)\n",
    "for t in parser.parse(sentence):\n",
    "    print(t)\n",
    "    t.pretty_print(unicodelines=True, nodedist=3*2)\n",
    "    \n",
    "# viterbi_parser = nltk.ViterbiParser(grammar)\n",
    "\n",
    "# for tree in viterbi_parser.parse(sentence):\n",
    "#     print(tree)"
   ]
  },
  {
   "cell_type": "code",
   "execution_count": null,
   "id": "fd62c045-fd63-4921-9baf-f33abc657230",
   "metadata": {},
   "outputs": [],
   "source": []
  }
 ],
 "metadata": {
  "kernelspec": {
   "display_name": "Python 3 (ipykernel)",
   "language": "python",
   "name": "python3"
  },
  "language_info": {
   "codemirror_mode": {
    "name": "ipython",
    "version": 3
   },
   "file_extension": ".py",
   "mimetype": "text/x-python",
   "name": "python",
   "nbconvert_exporter": "python",
   "pygments_lexer": "ipython3",
   "version": "3.11.5"
  }
 },
 "nbformat": 4,
 "nbformat_minor": 5
}
