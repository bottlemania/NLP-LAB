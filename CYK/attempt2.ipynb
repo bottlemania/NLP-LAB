{
 "cells": [
  {
   "cell_type": "code",
   "execution_count": 23,
   "id": "603e196b-0a20-4cd3-9f17-b7376f6d00c7",
   "metadata": {},
   "outputs": [
    {
     "ename": "ValueError",
     "evalue": "Unable to parse line 2: S(0.9) -> NP VP [1.0]\nExpected an arrow",
     "output_type": "error",
     "traceback": [
      "\u001b[1;31m---------------------------------------------------------------------------\u001b[0m",
      "\u001b[1;31mValueError\u001b[0m                                Traceback (most recent call last)",
      "File \u001b[1;32m~\\AppData\\Local\\Programs\\Python\\Python310\\lib\\site-packages\\nltk\\grammar.py:1435\u001b[0m, in \u001b[0;36mread_grammar\u001b[1;34m(input, nonterm_parser, probabilistic, encoding)\u001b[0m\n\u001b[0;32m   1433\u001b[0m     \u001b[38;5;28;01melse\u001b[39;00m:\n\u001b[0;32m   1434\u001b[0m         \u001b[38;5;66;03m# expand out the disjunctions on the RHS\u001b[39;00m\n\u001b[1;32m-> 1435\u001b[0m         productions \u001b[38;5;241m+\u001b[39m\u001b[38;5;241m=\u001b[39m \u001b[43m_read_production\u001b[49m\u001b[43m(\u001b[49m\u001b[43mline\u001b[49m\u001b[43m,\u001b[49m\u001b[43m \u001b[49m\u001b[43mnonterm_parser\u001b[49m\u001b[43m,\u001b[49m\u001b[43m \u001b[49m\u001b[43mprobabilistic\u001b[49m\u001b[43m)\u001b[49m\n\u001b[0;32m   1436\u001b[0m \u001b[38;5;28;01mexcept\u001b[39;00m \u001b[38;5;167;01mValueError\u001b[39;00m \u001b[38;5;28;01mas\u001b[39;00m e:\n",
      "File \u001b[1;32m~\\AppData\\Local\\Programs\\Python\\Python310\\lib\\site-packages\\nltk\\grammar.py:1339\u001b[0m, in \u001b[0;36m_read_production\u001b[1;34m(line, nonterm_parser, probabilistic)\u001b[0m\n\u001b[0;32m   1338\u001b[0m \u001b[38;5;28;01mif\u001b[39;00m \u001b[38;5;129;01mnot\u001b[39;00m m:\n\u001b[1;32m-> 1339\u001b[0m     \u001b[38;5;28;01mraise\u001b[39;00m \u001b[38;5;167;01mValueError\u001b[39;00m(\u001b[38;5;124m\"\u001b[39m\u001b[38;5;124mExpected an arrow\u001b[39m\u001b[38;5;124m\"\u001b[39m)\n\u001b[0;32m   1340\u001b[0m pos \u001b[38;5;241m=\u001b[39m m\u001b[38;5;241m.\u001b[39mend()\n",
      "\u001b[1;31mValueError\u001b[0m: Expected an arrow",
      "\nThe above exception was the direct cause of the following exception:\n",
      "\u001b[1;31mValueError\u001b[0m                                Traceback (most recent call last)",
      "Cell \u001b[1;32mIn[23], line 3\u001b[0m\n\u001b[0;32m      1\u001b[0m \u001b[38;5;28;01mimport\u001b[39;00m \u001b[38;5;21;01mnltk\u001b[39;00m\n\u001b[0;32m      2\u001b[0m \u001b[38;5;28;01mfrom\u001b[39;00m \u001b[38;5;21;01mnltk\u001b[39;00m\u001b[38;5;21;01m.\u001b[39;00m\u001b[38;5;21;01mparse\u001b[39;00m \u001b[38;5;28;01mimport\u001b[39;00m pchart\n\u001b[1;32m----> 3\u001b[0m grammar \u001b[38;5;241m=\u001b[39m \u001b[43mnltk\u001b[49m\u001b[38;5;241;43m.\u001b[39;49m\u001b[43mPCFG\u001b[49m\u001b[38;5;241;43m.\u001b[39;49m\u001b[43mfromstring\u001b[49m\u001b[43m(\u001b[49m\u001b[38;5;124;43m\"\"\"\u001b[39;49m\n\u001b[0;32m      4\u001b[0m \u001b[38;5;124;43m    S(0.9) -> NP VP [1.0]\u001b[39;49m\n\u001b[0;32m      5\u001b[0m \u001b[38;5;124;43m    PP -> P NP [1.0]\u001b[39;49m\n\u001b[0;32m      6\u001b[0m \u001b[38;5;124;43m    VP -> V NP [0.7] \u001b[39;49m\n\u001b[0;32m      7\u001b[0m \u001b[38;5;124;43m    VP -> VP PP [0.3]\u001b[39;49m\n\u001b[0;32m      8\u001b[0m \u001b[38;5;124;43m    P -> \u001b[39;49m\u001b[38;5;124;43m'\u001b[39;49m\u001b[38;5;124;43mwith\u001b[39;49m\u001b[38;5;124;43m'\u001b[39;49m\u001b[38;5;124;43m [1.0]\u001b[39;49m\n\u001b[0;32m      9\u001b[0m \u001b[38;5;124;43m    V -> \u001b[39;49m\u001b[38;5;124;43m'\u001b[39;49m\u001b[38;5;124;43msaw\u001b[39;49m\u001b[38;5;124;43m'\u001b[39;49m\u001b[38;5;124;43m [1.0]\u001b[39;49m\n\u001b[0;32m     10\u001b[0m \u001b[38;5;124;43m    NP -> NP PP [0.4]\u001b[39;49m\n\u001b[0;32m     11\u001b[0m \u001b[38;5;124;43m    NP -> \u001b[39;49m\u001b[38;5;124;43m'\u001b[39;49m\u001b[38;5;124;43mastronomers\u001b[39;49m\u001b[38;5;124;43m'\u001b[39;49m\u001b[38;5;124;43m [0.1]\u001b[39;49m\n\u001b[0;32m     12\u001b[0m \u001b[38;5;124;43m    NP -> \u001b[39;49m\u001b[38;5;124;43m'\u001b[39;49m\u001b[38;5;124;43mears\u001b[39;49m\u001b[38;5;124;43m'\u001b[39;49m\u001b[38;5;124;43m [0.18]\u001b[39;49m\n\u001b[0;32m     13\u001b[0m \u001b[38;5;124;43m    NP -> \u001b[39;49m\u001b[38;5;124;43m'\u001b[39;49m\u001b[38;5;124;43msaw\u001b[39;49m\u001b[38;5;124;43m'\u001b[39;49m\u001b[38;5;124;43m [0.04]\u001b[39;49m\n\u001b[0;32m     14\u001b[0m \u001b[38;5;124;43m    NP -> \u001b[39;49m\u001b[38;5;124;43m'\u001b[39;49m\u001b[38;5;124;43mstars\u001b[39;49m\u001b[38;5;124;43m'\u001b[39;49m\u001b[38;5;124;43m [0.18]\u001b[39;49m\n\u001b[0;32m     15\u001b[0m \u001b[38;5;124;43m    NP -> \u001b[39;49m\u001b[38;5;124;43m'\u001b[39;49m\u001b[38;5;124;43mtelescopes\u001b[39;49m\u001b[38;5;124;43m'\u001b[39;49m\u001b[38;5;124;43m [0.1]\u001b[39;49m\n\u001b[0;32m     16\u001b[0m \n\u001b[0;32m     17\u001b[0m \u001b[38;5;124;43m    \u001b[39;49m\u001b[38;5;124;43m\"\"\"\u001b[39;49m\u001b[43m)\u001b[49m\n\u001b[0;32m     19\u001b[0m \u001b[38;5;66;03m# Convert the NLTK PCFG grammar to a Python dictionary\u001b[39;00m\n\u001b[0;32m     20\u001b[0m pcfg_dict \u001b[38;5;241m=\u001b[39m {}\n",
      "File \u001b[1;32m~\\AppData\\Local\\Programs\\Python\\Python310\\lib\\site-packages\\nltk\\grammar.py:1247\u001b[0m, in \u001b[0;36mPCFG.fromstring\u001b[1;34m(cls, input, encoding)\u001b[0m\n\u001b[0;32m   1238\u001b[0m \u001b[38;5;129m@classmethod\u001b[39m\n\u001b[0;32m   1239\u001b[0m \u001b[38;5;28;01mdef\u001b[39;00m \u001b[38;5;21mfromstring\u001b[39m(\u001b[38;5;28mcls\u001b[39m, \u001b[38;5;28minput\u001b[39m, encoding\u001b[38;5;241m=\u001b[39m\u001b[38;5;28;01mNone\u001b[39;00m):\n\u001b[0;32m   1240\u001b[0m \u001b[38;5;250m    \u001b[39m\u001b[38;5;124;03m\"\"\"\u001b[39;00m\n\u001b[0;32m   1241\u001b[0m \u001b[38;5;124;03m    Return a probabilistic context-free grammar corresponding to the\u001b[39;00m\n\u001b[0;32m   1242\u001b[0m \u001b[38;5;124;03m    input string(s).\u001b[39;00m\n\u001b[1;32m   (...)\u001b[0m\n\u001b[0;32m   1245\u001b[0m \u001b[38;5;124;03m         as a list of strings.\u001b[39;00m\n\u001b[0;32m   1246\u001b[0m \u001b[38;5;124;03m    \"\"\"\u001b[39;00m\n\u001b[1;32m-> 1247\u001b[0m     start, productions \u001b[38;5;241m=\u001b[39m \u001b[43mread_grammar\u001b[49m\u001b[43m(\u001b[49m\n\u001b[0;32m   1248\u001b[0m \u001b[43m        \u001b[49m\u001b[38;5;28;43minput\u001b[39;49m\u001b[43m,\u001b[49m\u001b[43m \u001b[49m\u001b[43mstandard_nonterm_parser\u001b[49m\u001b[43m,\u001b[49m\u001b[43m \u001b[49m\u001b[43mprobabilistic\u001b[49m\u001b[38;5;241;43m=\u001b[39;49m\u001b[38;5;28;43;01mTrue\u001b[39;49;00m\u001b[43m,\u001b[49m\u001b[43m \u001b[49m\u001b[43mencoding\u001b[49m\u001b[38;5;241;43m=\u001b[39;49m\u001b[43mencoding\u001b[49m\n\u001b[0;32m   1249\u001b[0m \u001b[43m    \u001b[49m\u001b[43m)\u001b[49m\n\u001b[0;32m   1250\u001b[0m     \u001b[38;5;28;01mreturn\u001b[39;00m \u001b[38;5;28mcls\u001b[39m(start, productions)\n",
      "File \u001b[1;32m~\\AppData\\Local\\Programs\\Python\\Python310\\lib\\site-packages\\nltk\\grammar.py:1437\u001b[0m, in \u001b[0;36mread_grammar\u001b[1;34m(input, nonterm_parser, probabilistic, encoding)\u001b[0m\n\u001b[0;32m   1435\u001b[0m             productions \u001b[38;5;241m+\u001b[39m\u001b[38;5;241m=\u001b[39m _read_production(line, nonterm_parser, probabilistic)\n\u001b[0;32m   1436\u001b[0m     \u001b[38;5;28;01mexcept\u001b[39;00m \u001b[38;5;167;01mValueError\u001b[39;00m \u001b[38;5;28;01mas\u001b[39;00m e:\n\u001b[1;32m-> 1437\u001b[0m         \u001b[38;5;28;01mraise\u001b[39;00m \u001b[38;5;167;01mValueError\u001b[39;00m(\u001b[38;5;124mf\u001b[39m\u001b[38;5;124m\"\u001b[39m\u001b[38;5;124mUnable to parse line \u001b[39m\u001b[38;5;132;01m{\u001b[39;00mlinenum\u001b[38;5;250m \u001b[39m\u001b[38;5;241m+\u001b[39m\u001b[38;5;250m \u001b[39m\u001b[38;5;241m1\u001b[39m\u001b[38;5;132;01m}\u001b[39;00m\u001b[38;5;124m: \u001b[39m\u001b[38;5;132;01m{\u001b[39;00mline\u001b[38;5;132;01m}\u001b[39;00m\u001b[38;5;130;01m\\n\u001b[39;00m\u001b[38;5;132;01m{\u001b[39;00me\u001b[38;5;132;01m}\u001b[39;00m\u001b[38;5;124m\"\u001b[39m) \u001b[38;5;28;01mfrom\u001b[39;00m \u001b[38;5;21;01me\u001b[39;00m\n\u001b[0;32m   1439\u001b[0m \u001b[38;5;28;01mif\u001b[39;00m \u001b[38;5;129;01mnot\u001b[39;00m productions:\n\u001b[0;32m   1440\u001b[0m     \u001b[38;5;28;01mraise\u001b[39;00m \u001b[38;5;167;01mValueError\u001b[39;00m(\u001b[38;5;124m\"\u001b[39m\u001b[38;5;124mNo productions found!\u001b[39m\u001b[38;5;124m\"\u001b[39m)\n",
      "\u001b[1;31mValueError\u001b[0m: Unable to parse line 2: S(0.9) -> NP VP [1.0]\nExpected an arrow"
     ]
    }
   ],
   "source": [
    "import nltk\n",
    "from nltk.parse import pchart\n",
    "grammar = nltk.PCFG.fromstring(\"\"\"\n",
    "    S() -> NP VP [1.0]\n",
    "    PP -> P NP [1.0]\n",
    "    VP -> V NP [0.7] \n",
    "    VP -> VP PP [0.3]\n",
    "    P -> 'with' [1.0]\n",
    "    V -> 'saw' [1.0]\n",
    "    NP -> NP PP [0.4]\n",
    "    NP -> 'astronomers' [0.1]\n",
    "    NP -> 'ears' [0.18]\n",
    "    NP -> 'saw' [0.04]\n",
    "    NP -> 'stars' [0.18]\n",
    "    NP -> 'telescopes' [0.1]\n",
    "\n",
    "    \"\"\")\n",
    "\n",
    "# Convert the NLTK PCFG grammar to a Python dictionary\n",
    "pcfg_dict = {}\n",
    "for production in grammar.productions():\n",
    "    lhs = str(production.lhs())\n",
    "    rhs = [str(sym) for sym in production.rhs()]\n",
    "    prob = production.prob()\n",
    "    \n",
    "    if lhs in pcfg_dict:\n",
    "        pcfg_dict[lhs].append((rhs, prob))\n",
    "    else:\n",
    "        pcfg_dict[lhs] = [(rhs, prob)]\n",
    "\n",
    "print(pcfg_dict)\n",
    "sentence = \"astronomers saw stars with ears\".split(\" \")\n",
    "\n",
    "parser = pchart.InsideChartParser(grammar)\n",
    "for t in parser.parse(sentence):\n",
    "    print(t)\n",
    "    t.pretty_print(unicodelines=True, nodedist=3*2)\n",
    "    \n",
    "# viterbi_parser = nltk.ViterbiParser(grammar)\n",
    "\n",
    "# for tree in viterbi_parser.parse(sentence):\n",
    "#     print(tree)"
   ]
  },
  {
   "cell_type": "code",
   "execution_count": null,
   "id": "fd62c045-fd63-4921-9baf-f33abc657230",
   "metadata": {},
   "outputs": [],
   "source": []
  }
 ],
 "metadata": {
  "kernelspec": {
   "display_name": "Python 3 (ipykernel)",
   "language": "python",
   "name": "python3"
  },
  "language_info": {
   "codemirror_mode": {
    "name": "ipython",
    "version": 3
   },
   "file_extension": ".py",
   "mimetype": "text/x-python",
   "name": "python",
   "nbconvert_exporter": "python",
   "pygments_lexer": "ipython3",
   "version": "3.10.5"
  }
 },
 "nbformat": 4,
 "nbformat_minor": 5
}
