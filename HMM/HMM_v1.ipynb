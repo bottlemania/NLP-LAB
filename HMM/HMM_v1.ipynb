{
 "cells": [
  {
   "cell_type": "code",
   "execution_count": 2,
   "id": "cfae729e-00e6-4d07-a823-aae55422760a",
   "metadata": {
    "scrolled": true
   },
   "outputs": [
    {
     "name": "stdout",
     "output_type": "stream",
     "text": [
      "[[1.0, 0.21, 0.0462, 0.021293999999999993], [0.0, 0.09, 0.0378, 0.010206]]\n"
     ]
    }
   ],
   "source": [
    "# Define the state space\n",
    "states = [\"CP\", \"IP\"]\n",
    "n_states = len(states)\n",
    "\n",
    "# Define the observation space\n",
    "observations = [\"a\", \"b\", \"c\"]\n",
    "n_observations = len(observations)\n",
    "\n",
    "# Define the initial state distribution\n",
    "pi_probability = [1.0, 0.0]  # always start from CP\n",
    "\n",
    "# Define the state transition probabilities\n",
    "transition_probability = [[0.7, 0.3],\n",
    "                          [0.5, 0.5]]\n",
    "\n",
    "# Define the observation likelihoods\n",
    "emission_probability = [[0.6, 0.1, 0.3],\n",
    "                        [0.1, 0.7, 0.2]]\n",
    "\n",
    "# required output sequence\n",
    "op_seq = \"c b a\".split(\" \")\n",
    "n_op = len(op_seq)\n",
    "t = n_op + 1\n",
    "\n",
    "# Initialize alpha\n",
    "alpha = [[0] * t for _ in range(n_states)]\n",
    "\n",
    "# Initialize the forward algorithm\n",
    "for i in range(n_states):\n",
    "    alpha[i][0] = pi_probability[i]\n",
    "\n",
    "# Execute the forward algorithm\n",
    "for time in range(1, t):\n",
    "    obv = observations.index(op_seq[time - 1])\n",
    "    for j in range(n_states):\n",
    "        alpha[j][time] = 0\n",
    "        for i in range(n_states):\n",
    "            alpha[j][time] = alpha[j][time]+ alpha[i][time - 1] * transition_probability[i][j] * emission_probability[i][obv]\n",
    "\n",
    "print(alpha)\n"
   ]
  },
  {
   "cell_type": "code",
   "execution_count": 3,
   "id": "702b600c-89b5-4b15-a444-4f276303056f",
   "metadata": {},
   "outputs": [
    {
     "name": "stdout",
     "output_type": "stream",
     "text": [
      "Forward probabilities:\n",
      "[1.0, 0.21, 0.0462, 0.021293999999999993]\n",
      "[0.0, 0.09, 0.0378, 0.010206]\n",
      "\n",
      "Backward probabilities:\n",
      "[0.030749999999999993, 0.10499999999999998, 0.44999999999999996, 1]\n",
      "[0.030249999999999996, 0.145, 0.35, 1]\n"
     ]
    }
   ],
   "source": [
    "# Define the state space\n",
    "states = [\"CP\", \"IP\"]\n",
    "n_states = len(states)\n",
    "\n",
    "# Define the observation space\n",
    "observations = [\"a\", \"b\", \"c\"]\n",
    "n_observations = len(observations)\n",
    "\n",
    "# Define the initial state distribution\n",
    "pi_probability = [1.0, 0.0]  # always start from CP\n",
    "\n",
    "# Define the state transition probabilities\n",
    "transition_probability = [[0.7, 0.3],\n",
    "                          [0.5, 0.5]]\n",
    "\n",
    "# Define the observation likelihoods\n",
    "emission_probability = [[0.6, 0.1, 0.3],\n",
    "                        [0.1, 0.7, 0.2]]\n",
    "\n",
    "# required output sequence\n",
    "op_seq = \"c b a\".split(\" \")\n",
    "n_op = len(op_seq)\n",
    "t = n_op + 1\n",
    "\n",
    "# Initialize alpha and beta\n",
    "alpha = [[0] * t for _ in range(n_states)]\n",
    "beta = [[0] * t for _ in range(n_states)]\n",
    "\n",
    "# Initialize the forward algorithm\n",
    "for i in range(n_states):\n",
    "    alpha[i][0] = pi_probability[i]\n",
    "\n",
    "# Execute the forward algorithm\n",
    "for time in range(1, t):\n",
    "    obv = observations.index(op_seq[time - 1])\n",
    "    for j in range(n_states):\n",
    "        alpha[j][time] = 0\n",
    "        for i in range(n_states):\n",
    "            alpha[j][time] += alpha[i][time - 1] * transition_probability[i][j] * emission_probability[i][obv]\n",
    "\n",
    "# Initialize the backward algorithm\n",
    "for i in range(n_states):\n",
    "    beta[i][-1] = 1\n",
    "\n",
    "# Execute the backward algorithm\n",
    "for time in range(t - 2, -1, -1):\n",
    "    obv = observations.index(op_seq[time])\n",
    "    for i in range(n_states):\n",
    "        beta[i][time] = 0\n",
    "        for j in range(n_states):\n",
    "            beta[i][time] += beta[j][time + 1] * transition_probability[i][j] * emission_probability[j][obv]\n",
    "\n",
    "print(\"Forward probabilities:\")\n",
    "for row in alpha:\n",
    "    print(row)\n",
    "\n",
    "print(\"\\nBackward probabilities:\")\n",
    "for row in beta:\n",
    "    print(row)\n"
   ]
  }
 ],
 "metadata": {
  "kernelspec": {
   "display_name": "Python 3 (ipykernel)",
   "language": "python",
   "name": "python3"
  },
  "language_info": {
   "codemirror_mode": {
    "name": "ipython",
    "version": 3
   },
   "file_extension": ".py",
   "mimetype": "text/x-python",
   "name": "python",
   "nbconvert_exporter": "python",
   "pygments_lexer": "ipython3",
   "version": "3.10.5"
  }
 },
 "nbformat": 4,
 "nbformat_minor": 5
}
