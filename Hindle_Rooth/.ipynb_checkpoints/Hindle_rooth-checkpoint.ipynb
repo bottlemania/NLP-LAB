{
 "cells": [
  {
   "cell_type": "code",
   "execution_count": 2,
   "id": "cf0c09ea",
   "metadata": {},
   "outputs": [],
   "source": [
    "file = open(\"corpus.txt\", \"r\")\n",
    "text = file.read()"
   ]
  },
  {
   "cell_type": "code",
   "execution_count": 3,
   "id": "4d147b67",
   "metadata": {},
   "outputs": [],
   "source": [
    "import nltk\n",
    "import math\n",
    "from nltk.tokenize import word_tokenize\n",
    "from nltk.collocations import BigramCollocationFinder\n",
    "from nltk.metrics import BigramAssocMeasures\n",
    "from nltk.tag import pos_tag\n",
    "\n",
    "tokens = word_tokenize(text)\n",
    "tagged_tokens = pos_tag(tokens)\n",
    "\n",
    "# Initialize lists to store nouns,verbs and Prepositions\n",
    "nouns = []\n",
    "verbs = []\n",
    "prepositions=[]\n",
    "# Loop through tagged tokens to extract nouns,verbs and prepositions\n",
    "for token, tag in tagged_tokens:\n",
    "    if tag.startswith('N'):  # Noun\n",
    "        nouns.append(token)\n",
    "    elif tag.startswith('V'):  # Verb\n",
    "        verbs.append(token)\n",
    "    elif tag=='IN':\n",
    "        prepositions.append(token)\n"
   ]
  },
  {
   "cell_type": "code",
   "execution_count": 4,
   "id": "269e2e9e",
   "metadata": {},
   "outputs": [],
   "source": [
    "#finding all bigrams\n",
    "bigram_finder = BigramCollocationFinder.from_words(tokens)\n",
    "bigrams = bigram_finder.ngram_fd.items()"
   ]
  },
  {
   "cell_type": "code",
   "execution_count": 5,
   "id": "04a6c8af",
   "metadata": {},
   "outputs": [],
   "source": [
    "top_bigrams = bigram_finder.nbest(BigramAssocMeasures.raw_freq, 10)"
   ]
  },
  {
   "cell_type": "code",
   "execution_count": 6,
   "id": "85792e16",
   "metadata": {},
   "outputs": [],
   "source": [
    "#finding bigrams attached with verb and noun\n",
    "prep_f_verb=0\n",
    "desired_bigram=('fill','with') #verb\n",
    "for bigram, freq in bigrams:\n",
    "    if bigram == desired_bigram:\n",
    "        prep_f_verb+=1\n",
    "\n",
    "prep_f_noun=0\n",
    "desired_bigram=('traffic','with') #noun\n",
    "for bigram, freq in bigrams:\n",
    "    if bigram == desired_bigram:\n",
    "        prep_f_noun+=1"
   ]
  },
  {
   "cell_type": "code",
   "execution_count": 7,
   "id": "271f14e6",
   "metadata": {},
   "outputs": [],
   "source": [
    "# calculating verb count\n",
    "verb_count=text.count('fill')"
   ]
  },
  {
   "cell_type": "code",
   "execution_count": 8,
   "id": "f49ea2d8",
   "metadata": {},
   "outputs": [],
   "source": [
    "# calculating noun count\n",
    "noun_count=text.count('traffic')"
   ]
  },
  {
   "cell_type": "code",
   "execution_count": 9,
   "id": "ce343ef7",
   "metadata": {},
   "outputs": [
    {
     "name": "stdout",
     "output_type": "stream",
     "text": [
      "0.16666666666666666 0.5\n",
      "Lamda is  1.3219280948873626\n",
      "Attached with verb\n"
     ]
    }
   ],
   "source": [
    "# calculating probabilities\n",
    "\n",
    "prob_of_preposition_followed_by_noun=prep_f_noun/noun_count\n",
    "prob_of_preposition_followed_by_verb=prep_f_verb/verb_count\n",
    "print(prob_of_preposition_followed_by_noun,prob_of_preposition_followed_by_verb)\n",
    "\n",
    "prob_of_preposition_not_followed_by_noun=1-prob_of_preposition_followed_by_noun\n",
    "\n",
    "#calculating lamda\n",
    "\n",
    "\n",
    "lamda=prob_of_preposition_followed_by_verb*prob_of_preposition_not_followed_by_noun/prob_of_preposition_followed_by_noun\n",
    "lamda=math.log(lamda,2)\n",
    "print('Lamda is ',lamda)\n",
    "\n",
    "# deciding Attachment with verb and noun\n",
    "if(lamda>0):\n",
    "    print('Attached with verb')\n",
    "else:\n",
    "    print('Attached with Noun')\n",
    "\n"
   ]
  },
  {
   "cell_type": "code",
   "execution_count": null,
   "id": "ae75cb2e",
   "metadata": {},
   "outputs": [],
   "source": []
  }
 ],
 "metadata": {
  "kernelspec": {
   "display_name": "Python 3 (ipykernel)",
   "language": "python",
   "name": "python3"
  },
  "language_info": {
   "codemirror_mode": {
    "name": "ipython",
    "version": 3
   },
   "file_extension": ".py",
   "mimetype": "text/x-python",
   "name": "python",
   "nbconvert_exporter": "python",
   "pygments_lexer": "ipython3",
   "version": "3.11.5"
  }
 },
 "nbformat": 4,
 "nbformat_minor": 5
}
