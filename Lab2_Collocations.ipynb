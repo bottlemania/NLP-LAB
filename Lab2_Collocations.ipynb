{
 "cells": [
  {
   "cell_type": "code",
   "execution_count": 4,
   "id": "1d6ad69c-d28a-44e8-8de0-e8295f93112a",
   "metadata": {},
   "outputs": [],
   "source": [
    "import nltk\n",
    "from nltk.tokenize import word_tokenize\n",
    "from nltk.collocations import BigramCollocationFinder,BigramAssocMeasures"
   ]
  },
  {
   "cell_type": "code",
   "execution_count": 8,
   "id": "d4415faa-efff-4c5c-a40f-033d3b37d74a",
   "metadata": {
    "scrolled": true
   },
   "outputs": [
    {
     "name": "stdout",
     "output_type": "stream",
     "text": [
      "Top Three Bigrams:\n",
      "('city', \"'s\")\n",
      "('commitment', 'to')\n",
      "('recurring', 'motif')\n"
     ]
    }
   ],
   "source": [
    "sample_text=\"\"\"\n",
    "In the sprawling metropolis, where towering skyscrapers define the skyline and the hum of city life reverberates through the streets, the intersection of technology and human interaction is a recurring motif. The bustling financial district serves as a hub for innovation, where startups and established enterprises alike converge to shape the future. Within the glass and steel structures, a dynamic ecosystem of collaboration and disruption thrives, giving rise to novel solutions for contemporary challenges.\n",
    "\n",
    "The city's vibrant multicultural neighborhoods are a testament to its diverse populace. In the historic district, centuries-old architecture stands juxtaposed with cutting-edge art galleries, creating a visual symphony that encapsulates the city's rich history and progressive spirit. The recurring theme of cultural fusion permeates the air, as languages, cuisines, and traditions intertwine, shaping a tapestry that reflects the interconnected lives of its inhabitants.\n",
    "\n",
    "Amidst the fast-paced urban rhythm, educational institutions serve as crucibles of knowledge and innovation. Research centers collaborate with industry leaders on projects that span artificial intelligence, renewable energy, and urban sustainability. The recurring pursuit of knowledge and the transformative power of education underscore the city's commitment to progress.\n",
    "\n",
    "As day turns to night, the cityscape transforms into a glittering spectacle, with neon lights and digital billboards illuminating the streets. Entertainment districts come alive, offering a myriad of experiences, from avant-garde theater productions to cutting-edge virtual reality experiences. The recurring motif of technology-driven entertainment mirrors the city's penchant for pushing boundaries and embracing the future.\n",
    "\n",
    "Public spaces, adorned with sculptures and interactive installations, provide a canvas for artistic expression. The recurring themes of public art and civic engagement come together in vibrant street murals that tell stories of resilience and unity. Citizens, connected by a shared appreciation for creativity, participate in cultural events that bridge the gap between diverse communities.\n",
    "\n",
    "Within the sprawling parks and green oases that dot the urban landscape, a recurring commitment to environmental sustainability emerges. Community gardens, solar-powered charging stations, and eco-friendly architecture showcase the city's dedication to a harmonious coexistence with nature. The recurring practices of eco-conscious living and green initiatives underscore a collective responsibility toward the planet.\n",
    "\n",
    "In the digital realm, social media platforms become arenas for discourse and connectivity. Hashtags, trending topics, and viral challenges form recurring patterns that reflect the pulse of societal conversations. The city's inhabitants, connected through virtual networks, contribute to the recurring narrative of online communities shaping real-world change.\n",
    "\n",
    "In this metropolis of contrasts and convergences, the recurring collocations of innovation and tradition, diversity and unity, technology and humanity, weave a narrative that defines the city's identity. It is within this intricate tapestry that the residents find both individual expression and a collective sense of belonging, creating a cityscape that evolves with each passing day while honoring the recurring themes that anchor its essence.\n",
    "\"\"\"\n",
    "tokens = word_tokenize(sample_text)\n",
    "bigram_collocation_finder = BigramCollocationFinder.from_words(tokens)\n",
    "bigram_measures = BigramAssocMeasures()\n",
    "bigram_collocation_finder.apply_freq_filter(2)\n",
    "top_bigrams = bigram_collocation_finder.nbest(bigram_measures.pmi, 3)\n",
    "\n",
    "print(\"Top Three Bigrams:\")\n",
    "for bigram in top_bigrams:\n",
    "    print(bigram)"
   ]
  },
  {
   "cell_type": "code",
   "execution_count": null,
   "id": "edad3700-6373-4dd6-82c6-4bbdfec2b9a8",
   "metadata": {},
   "outputs": [],
   "source": [
    "# to detect collocation using hypothesis testing\n"
   ]
  }
 ],
 "metadata": {
  "kernelspec": {
   "display_name": "Python 3 (ipykernel)",
   "language": "python",
   "name": "python3"
  },
  "language_info": {
   "codemirror_mode": {
    "name": "ipython",
    "version": 3
   },
   "file_extension": ".py",
   "mimetype": "text/x-python",
   "name": "python",
   "nbconvert_exporter": "python",
   "pygments_lexer": "ipython3",
   "version": "3.10.5"
  }
 },
 "nbformat": 4,
 "nbformat_minor": 5
}
