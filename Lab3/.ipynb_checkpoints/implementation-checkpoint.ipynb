{
 "cells": [
  {
   "cell_type": "code",
   "execution_count": 1,
   "id": "f7bccbea-42a7-445f-be29-a16774058210",
   "metadata": {},
   "outputs": [
    {
     "name": "stdout",
     "output_type": "stream",
     "text": [
      "Sparse Matrix:\n",
      "{'In': 1, 'the': 7, 'sprawling': 1, 'metropolis,': 1, 'where': 2, 'towering': 1, 'skyscrapers': 1, 'define': 1, 'skyline': 1, 'and': 5, 'hum': 1, 'of': 3, 'city': 1, 'life': 1, 'reverberates': 1, 'through': 1, 'streets,': 1, 'intersection': 1, 'technology': 1, 'human': 1, 'interaction': 1, 'is': 1, 'a': 3, 'recurring': 1, 'motif.': 1, 'The': 1, 'bustling': 1, 'financial': 1, 'district': 1, 'serves': 1, 'as': 1, 'hub': 1, 'for': 2, 'innovation,': 1, 'startups': 1, 'established': 1, 'enterprises': 1, 'alike': 1, 'converge': 1, 'to': 2, 'shape': 1, 'future.': 1, 'Within': 1, 'glass': 1, 'steel': 1, 'structures,': 1, 'dynamic': 1, 'ecosystem': 1, 'collaboration': 1, 'disruption': 1, 'thrives,': 1, 'giving': 1, 'rise': 1, 'novel': 1, 'solutions': 1, 'contemporary': 1, 'challenges.': 1}\n",
      "{}\n",
      "{'The': 2, \"city's\": 2, 'vibrant': 1, 'multicultural': 1, 'neighborhoods': 1, 'are': 1, 'a': 3, 'testament': 1, 'to': 1, 'its': 2, 'diverse': 1, 'populace.': 1, 'In': 1, 'the': 4, 'historic': 1, 'district,': 1, 'centuries-old': 1, 'architecture': 1, 'stands': 1, 'juxtaposed': 1, 'with': 1, 'cutting-edge': 1, 'art': 1, 'galleries,': 1, 'creating': 1, 'visual': 1, 'symphony': 1, 'that': 2, 'encapsulates': 1, 'rich': 1, 'history': 1, 'and': 2, 'progressive': 1, 'spirit.': 1, 'recurring': 1, 'theme': 1, 'of': 2, 'cultural': 1, 'fusion': 1, 'permeates': 1, 'air,': 1, 'as': 1, 'languages,': 1, 'cuisines,': 1, 'traditions': 1, 'intertwine,': 1, 'shaping': 1, 'tapestry': 1, 'reflects': 1, 'interconnected': 1, 'lives': 1, 'inhabitants.': 1}\n",
      "{}\n",
      "{'Amidst': 1, 'the': 3, 'fast-paced': 1, 'urban': 2, 'rhythm,': 1, 'educational': 1, 'institutions': 1, 'serve': 1, 'as': 1, 'crucibles': 1, 'of': 3, 'knowledge': 2, 'and': 3, 'innovation.': 1, 'Research': 1, 'centers': 1, 'collaborate': 1, 'with': 1, 'industry': 1, 'leaders': 1, 'on': 1, 'projects': 1, 'that': 1, 'span': 1, 'artificial': 1, 'intelligence,': 1, 'renewable': 1, 'energy,': 1, 'sustainability.': 1, 'The': 1, 'recurring': 1, 'pursuit': 1, 'transformative': 1, 'power': 1, 'education': 1, 'underscore': 1, \"city's\": 1, 'commitment': 1, 'to': 1, 'progress.': 1}\n",
      "{}\n",
      "{'As': 1, 'day': 1, 'turns': 1, 'to': 2, 'night,': 1, 'the': 4, 'cityscape': 1, 'transforms': 1, 'into': 1, 'a': 2, 'glittering': 1, 'spectacle,': 1, 'with': 1, 'neon': 1, 'lights': 1, 'and': 2, 'digital': 1, 'billboards': 1, 'illuminating': 1, 'streets.': 1, 'Entertainment': 1, 'districts': 1, 'come': 1, 'alive,': 1, 'offering': 1, 'myriad': 1, 'of': 2, 'experiences,': 1, 'from': 1, 'avant-garde': 1, 'theater': 1, 'productions': 1, 'cutting-edge': 1, 'virtual': 1, 'reality': 1, 'experiences.': 1, 'The': 1, 'recurring': 1, 'motif': 1, 'technology-driven': 1, 'entertainment': 1, 'mirrors': 1, \"city's\": 1, 'penchant': 1, 'for': 1, 'pushing': 1, 'boundaries': 1, 'embracing': 1, 'future.': 1}\n",
      "{}\n",
      "{'Public': 1, 'spaces,': 1, 'adorned': 1, 'with': 1, 'sculptures': 1, 'and': 3, 'interactive': 1, 'installations,': 1, 'provide': 1, 'a': 2, 'canvas': 1, 'for': 2, 'artistic': 1, 'expression.': 1, 'The': 1, 'recurring': 1, 'themes': 1, 'of': 2, 'public': 1, 'art': 1, 'civic': 1, 'engagement': 1, 'come': 1, 'together': 1, 'in': 2, 'vibrant': 1, 'street': 1, 'murals': 1, 'that': 2, 'tell': 1, 'stories': 1, 'resilience': 1, 'unity.': 1, 'Citizens,': 1, 'connected': 1, 'by': 1, 'shared': 1, 'appreciation': 1, 'creativity,': 1, 'participate': 1, 'cultural': 1, 'events': 1, 'bridge': 1, 'the': 1, 'gap': 1, 'between': 1, 'diverse': 1, 'communities.': 1}\n",
      "{}\n",
      "{'Within': 1, 'the': 4, 'sprawling': 1, 'parks': 1, 'and': 3, 'green': 2, 'oases': 1, 'that': 1, 'dot': 1, 'urban': 1, 'landscape,': 1, 'a': 3, 'recurring': 2, 'commitment': 1, 'to': 2, 'environmental': 1, 'sustainability': 1, 'emerges.': 1, 'Community': 1, 'gardens,': 1, 'solar-powered': 1, 'charging': 1, 'stations,': 1, 'eco-friendly': 1, 'architecture': 1, 'showcase': 1, \"city's\": 1, 'dedication': 1, 'harmonious': 1, 'coexistence': 1, 'with': 1, 'nature.': 1, 'The': 1, 'practices': 1, 'of': 1, 'eco-conscious': 1, 'living': 1, 'initiatives': 1, 'underscore': 1, 'collective': 1, 'responsibility': 1, 'toward': 1, 'planet.': 1}\n",
      "{}\n",
      "{'In': 1, 'the': 3, 'digital': 1, 'realm,': 1, 'social': 1, 'media': 1, 'platforms': 1, 'become': 1, 'arenas': 1, 'for': 1, 'discourse': 1, 'and': 2, 'connectivity.': 1, 'Hashtags,': 1, 'trending': 1, 'topics,': 1, 'viral': 1, 'challenges': 1, 'form': 1, 'recurring': 2, 'patterns': 1, 'that': 1, 'reflect': 1, 'pulse': 1, 'of': 2, 'societal': 1, 'conversations.': 1, 'The': 1, \"city's\": 1, 'inhabitants,': 1, 'connected': 1, 'through': 1, 'virtual': 1, 'networks,': 1, 'contribute': 1, 'to': 1, 'narrative': 1, 'online': 1, 'communities': 1, 'shaping': 1, 'real-world': 1, 'change.': 1}\n",
      "{}\n",
      "{'In': 1, 'this': 2, 'metropolis': 1, 'of': 3, 'contrasts': 1, 'and': 5, 'convergences,': 1, 'the': 4, 'recurring': 2, 'collocations': 1, 'innovation': 1, 'tradition,': 1, 'diversity': 1, 'unity,': 1, 'technology': 1, 'humanity,': 1, 'weave': 1, 'a': 3, 'narrative': 1, 'that': 4, 'defines': 1, \"city's\": 1, 'identity.': 1, 'It': 1, 'is': 1, 'within': 1, 'intricate': 1, 'tapestry': 1, 'residents': 1, 'find': 1, 'both': 1, 'individual': 1, 'expression': 1, 'collective': 1, 'sense': 1, 'belonging,': 1, 'creating': 1, 'cityscape': 1, 'evolves': 1, 'with': 1, 'each': 1, 'passing': 1, 'day': 1, 'while': 1, 'honoring': 1, 'themes': 1, 'anchor': 1, 'its': 1, 'essence.': 1}\n"
     ]
    }
   ],
   "source": [
    "import nltk\n",
    "def build_sparse_matrix_from_text(file_path):\n",
    "    # Read text from file\n",
    "    with open(file_path, 'r') as file:\n",
    "        text_data = file.readlines()\n",
    "    \n",
    "    # Initialize sparse matrix\n",
    "    sparse_matrix = []\n",
    "    \n",
    "    # Iterate over each line of text\n",
    "    for line in text_data:\n",
    "        # Initialize row for current line\n",
    "        row = {}\n",
    "        # Split the line into words\n",
    "        words = line.strip().split()\n",
    "        # Populate row with word frequencies\n",
    "        for word in words:\n",
    "            if word in row:\n",
    "                row[word] += 1\n",
    "            else:\n",
    "                row[word] = 1\n",
    "        # Append row to sparse matrix\n",
    "        sparse_matrix.append(row)\n",
    "    \n",
    "    return sparse_matrix\n",
    "\n",
    "file_path = 'collocation_sample.txt'\n",
    "sparse_matrix = build_sparse_matrix_from_text(file_path)\n",
    "print(\"Sparse Matrix:\")\n",
    "for row in sparse_matrix:\n",
    "    print(row)\n"
   ]
  }
 ],
 "metadata": {
  "kernelspec": {
   "display_name": "Python 3 (ipykernel)",
   "language": "python",
   "name": "python3"
  },
  "language_info": {
   "codemirror_mode": {
    "name": "ipython",
    "version": 3
   },
   "file_extension": ".py",
   "mimetype": "text/x-python",
   "name": "python",
   "nbconvert_exporter": "python",
   "pygments_lexer": "ipython3",
   "version": "3.10.5"
  }
 },
 "nbformat": 4,
 "nbformat_minor": 5
}
