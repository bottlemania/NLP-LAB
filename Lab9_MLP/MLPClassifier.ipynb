{
 "cells": [
  {
   "cell_type": "code",
   "execution_count": 2,
   "id": "5553f97f-c559-49b7-be4e-0eeca03b4d7d",
   "metadata": {
    "scrolled": true
   },
   "outputs": [
    {
     "name": "stdout",
     "output_type": "stream",
     "text": [
      "(404062, 3)\n",
      "78\n",
      "Iteration 1, loss = 0.25080594\n",
      "Iteration 2, loss = 0.14159295\n",
      "Iteration 3, loss = 0.06808008\n",
      "Iteration 4, loss = 0.02699932\n",
      "Iteration 5, loss = 0.00996330\n",
      "Iteration 6, loss = 0.00397021\n",
      "Iteration 7, loss = 0.00177603\n",
      "Iteration 8, loss = 0.00095598\n",
      "Iteration 9, loss = 0.00060931\n",
      "Iteration 10, loss = 0.00042834\n",
      "Iteration 11, loss = 0.00033144\n",
      "Iteration 12, loss = 0.00027257\n",
      "Iteration 13, loss = 0.00023781\n",
      "Iteration 14, loss = 0.00021371\n",
      "Iteration 15, loss = 0.00019661\n",
      "Iteration 16, loss = 0.00018462\n",
      "Iteration 17, loss = 0.00017520\n",
      "Iteration 18, loss = 0.00016719\n",
      "Iteration 19, loss = 0.00016105\n",
      "Iteration 20, loss = 0.00015537\n",
      "Iteration 21, loss = 0.00015107\n",
      "Training loss did not improve more than tol=0.000100 for 10 consecutive epochs. Stopping.\n",
      "1.0\n"
     ]
    }
   ],
   "source": [
    "import pandas as pd\n",
    "import string\n",
    "from sklearn.preprocessing import LabelEncoder\n",
    "from sklearn.model_selection import train_test_split\n",
    "from sklearn.neural_network import MLPClassifier\n",
    "from sklearn.metrics import accuracy_score\n",
    "\n",
    "# Read the CSV file into a DataFrame\n",
    "df = pd.read_csv('final_all_names_code.csv')\n",
    "\n",
    "# Display the shape of the DataFrame\n",
    "print(df.shape)\n",
    "\n",
    "# Display the number of unique country codes\n",
    "print(len(df['Country_code'].unique()))\n",
    "\n",
    "# Define the list of columns for the new DataFrame\n",
    "columns = list(string.ascii_lowercase) + ['Country_code', 'Country']\n",
    "\n",
    "# Initialize an empty list to store dictionaries for each row\n",
    "rows = []\n",
    "\n",
    "# Loop through the DataFrame and populate the list of dictionaries\n",
    "for ind in range(1000):\n",
    "    name = df['Name'][ind]\n",
    "    nameLst = str(name).split(' ')\n",
    "    lastName = nameLst[-1].lower()\n",
    "    chars = dict.fromkeys(columns, 0)\n",
    "    for i in lastName:\n",
    "        chars[i] = 1\n",
    "    chars['Country_code'] = df['Country_code'][ind]\n",
    "    chars['Country'] = df['Country'][ind]\n",
    "    # Append the dictionary for the current row to the list\n",
    "    rows.append(chars)\n",
    "\n",
    "# Convert the list of dictionaries into a DataFrame\n",
    "newdf = pd.DataFrame(rows)\n",
    "\n",
    "# Encode the 'Name' column using LabelEncoder\n",
    "le = LabelEncoder()\n",
    "df['Name'] = le.fit_transform(df['Name'])\n",
    "\n",
    "# Define features (X) and target (Y)\n",
    "X = newdf[list(string.ascii_lowercase)]\n",
    "Y = newdf['Country']\n",
    "\n",
    "# Split the data into training and testing sets\n",
    "X_train, X_test, Y_train, Y_test = train_test_split(X, Y, test_size=0.2, random_state=0)\n",
    "\n",
    "# Initialize and train the MLPClassifier\n",
    "clf = MLPClassifier(hidden_layer_sizes=(6, 5),\n",
    "                    random_state=0,\n",
    "                    verbose=True,\n",
    "                    learning_rate_init=0.01)\n",
    "clf.fit(X_train, Y_train)\n",
    "\n",
    "# Predict the target values for the test set\n",
    "Y_pred = clf.predict(X_test)\n",
    "\n",
    "# Calculate and display the accuracy score\n",
    "print(accuracy_score(Y_test, Y_pred))\n"
   ]
  },
  {
   "cell_type": "code",
   "execution_count": 3,
   "id": "b8b94563-02fa-4395-9a69-040f71319759",
   "metadata": {},
   "outputs": [],
   "source": [
    "import pandas as pd\n",
    "import string"
   ]
  },
  {
   "cell_type": "code",
   "execution_count": null,
   "id": "fb77d1b8-5f24-4a29-a1e2-25bd82f16542",
   "metadata": {},
   "outputs": [],
   "source": []
  }
 ],
 "metadata": {
  "kernelspec": {
   "display_name": "Python 3 (ipykernel)",
   "language": "python",
   "name": "python3"
  },
  "language_info": {
   "codemirror_mode": {
    "name": "ipython",
    "version": 3
   },
   "file_extension": ".py",
   "mimetype": "text/x-python",
   "name": "python",
   "nbconvert_exporter": "python",
   "pygments_lexer": "ipython3",
   "version": "3.10.5"
  }
 },
 "nbformat": 4,
 "nbformat_minor": 5
}
