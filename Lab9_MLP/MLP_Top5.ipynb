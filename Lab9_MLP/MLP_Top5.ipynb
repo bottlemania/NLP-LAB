{
 "cells": [
  {
   "cell_type": "code",
   "execution_count": 1,
   "id": "f44710cd-a420-4011-8e88-ddc987b6c314",
   "metadata": {},
   "outputs": [],
   "source": [
    "import pandas as pd\n",
    "import string\n"
   ]
  },
  {
   "cell_type": "code",
   "execution_count": 2,
   "id": "519877f7-eb4e-438e-80d3-2446e3acec77",
   "metadata": {},
   "outputs": [],
   "source": [
    "df = pd.read_csv('final_all_names_code.csv')"
   ]
  },
  {
   "cell_type": "code",
   "execution_count": 3,
   "id": "07e119b1-99c1-4c57-8d26-bb8b6a291239",
   "metadata": {},
   "outputs": [
    {
     "data": {
      "text/plain": [
       "(404062, 3)"
      ]
     },
     "execution_count": 3,
     "metadata": {},
     "output_type": "execute_result"
    }
   ],
   "source": [
    "df.shape"
   ]
  },
  {
   "cell_type": "code",
   "execution_count": 4,
   "id": "dcff4adc-c6cc-4f4f-9823-43a31394fbd6",
   "metadata": {},
   "outputs": [
    {
     "data": {
      "text/plain": [
       "78"
      ]
     },
     "execution_count": 4,
     "metadata": {},
     "output_type": "execute_result"
    }
   ],
   "source": [
    "len(df['Country_code'].unique())"
   ]
  },
  {
   "cell_type": "code",
   "execution_count": 5,
   "id": "8614d0db-9d13-4fbd-9aa0-8cfa400ce493",
   "metadata": {},
   "outputs": [
    {
     "data": {
      "text/plain": [
       "Country\n",
       "TH    17326\n",
       "IN    16573\n",
       "CA    16497\n",
       "CH    15719\n",
       "IE    12368\n",
       "      ...  \n",
       "LU     3623\n",
       "MT     3478\n",
       "BE     3412\n",
       "SK     3325\n",
       "KR     3178\n",
       "Name: count, Length: 63, dtype: int64"
      ]
     },
     "execution_count": 5,
     "metadata": {},
     "output_type": "execute_result"
    }
   ],
   "source": [
    "df['Country'].value_counts()"
   ]
  },
  {
   "cell_type": "code",
   "execution_count": 6,
   "id": "de110966-cf5b-4b21-8960-85fb478bb2c9",
   "metadata": {},
   "outputs": [
    {
     "name": "stdout",
     "output_type": "stream",
     "text": [
      "['TH', 'IN', 'CA', 'CH', 'IE']\n"
     ]
    }
   ],
   "source": [
    "# Get the top five most frequent classes\n",
    "top_classes = df['Country'].value_counts().head(5).index.tolist()\n",
    "print(top_classes)"
   ]
  },
  {
   "cell_type": "code",
   "execution_count": 7,
   "id": "c00dc916-a662-4ef3-a7c6-8b16bd93c751",
   "metadata": {},
   "outputs": [
    {
     "name": "stdout",
     "output_type": "stream",
     "text": [
      "(78483, 3)\n"
     ]
    }
   ],
   "source": [
    "# Filter the DataFrame to include only the top five classes\n",
    "df_top_classes = df[df['Country'].isin(top_classes)]\n",
    "\n",
    "# Display the shape of the filtered DataFrame\n",
    "print(df_top_classes.shape)"
   ]
  },
  {
   "cell_type": "code",
   "execution_count": 8,
   "id": "b8c4f5c4-224d-4e39-9725-f9aae8c00bac",
   "metadata": {},
   "outputs": [],
   "source": [
    "columns = list(string.ascii_lowercase) + ['Country_code', 'Country']"
   ]
  },
  {
   "cell_type": "code",
   "execution_count": null,
   "id": "6d2cc52f-f17c-4894-82c3-8ff8c21eb861",
   "metadata": {},
   "outputs": [],
   "source": [
    "# Initialize an empty list to store dictionaries for each row\n",
    "rows = []\n",
    "\n",
    "# Loop through the DataFrame and populate the list of dictionaries\n",
    "for ind in range(1000):\n",
    "    name = df['Name'][ind]\n",
    "    nameLst = str(name).split(' ')\n",
    "    lastName = nameLst[-1].lower()\n",
    "    chars = dict.fromkeys(columns, 0)\n",
    "    for i in lastName:\n",
    "        chars[i] = 1\n",
    "    chars['Country_code'] = df['Country_code'][ind]\n",
    "    chars['Country'] = df['Country'][ind]\n",
    "    # Append the dictionary for the current row to the list\n",
    "    rows.append(chars)\n",
    "\n",
    "# Convert the list of dictionaries into a DataFrame\n",
    "newdf = pd.DataFrame(rows)\n"
   ]
  }
 ],
 "metadata": {
  "kernelspec": {
   "display_name": "Python 3 (ipykernel)",
   "language": "python",
   "name": "python3"
  },
  "language_info": {
   "codemirror_mode": {
    "name": "ipython",
    "version": 3
   },
   "file_extension": ".py",
   "mimetype": "text/x-python",
   "name": "python",
   "nbconvert_exporter": "python",
   "pygments_lexer": "ipython3",
   "version": "3.10.5"
  }
 },
 "nbformat": 4,
 "nbformat_minor": 5
}
