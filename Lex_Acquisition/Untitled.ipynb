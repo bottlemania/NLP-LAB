{
 "cells": [
  {
   "cell_type": "code",
   "execution_count": null,
   "id": "b949195e-fc3c-4ecd-a5ef-164ed5ac87c2",
   "metadata": {},
   "outputs": [],
   "source": [
    "import nltk\n",
    "from nltk.corpus import genesis\n",
    "from nltk.probability import FreqDist\n",
    "\n",
    "# Download necessary resources\n",
    "nltk.download()"
   ]
  },
  {
   "cell_type": "code",
   "execution_count": null,
   "id": "c639b324-42c6-48ef-a4e0-553088bda091",
   "metadata": {
    "scrolled": true
   },
   "outputs": [],
   "source": [
    "import nltk\n",
    "from nltk.corpus import genesis\n",
    "from nltk.util import bigrams\n",
    "from nltk.probability import FreqDist\n",
    "\n",
    "# Download necessary resources\n",
    "nltk.download('genesis')\n",
    "\n",
    "# Load the Genesis corpus\n",
    "genesis_text = genesis.raw()\n",
    "\n",
    "# Tokenize the text\n",
    "tokens = nltk.word_tokenize(genesis_text)\n",
    "\n",
    "# Generate bigrams\n",
    "bi_grams = list(bigrams(tokens))\n",
    "\n",
    "# Compute frequency distribution for bigrams\n",
    "bi_grams_freq = FreqDist(bi_grams)\n",
    "\n",
    "# List the top 10 bigrams (you can change the number as per your requirement)\n",
    "top_bigrams = bi_grams_freq.most_common(10)\n",
    "\n",
    "# Print the top bigrams\n",
    "for bigram, freq in top_bigrams:\n",
    "    print(bigram, \":\", freq)\n",
    "\n"
   ]
  },
  {
   "cell_type": "code",
   "execution_count": null,
   "id": "9ad7b2b8-0176-460a-8a38-943df3206a96",
   "metadata": {
    "scrolled": true
   },
   "outputs": [],
   "source": [
    "import nltk\n",
    "from nltk.corpus import genesis\n",
    "from nltk.util import bigrams\n",
    "from nltk.probability import FreqDist\n",
    "import string\n",
    "\n",
    "# Download necessary resources\n",
    "nltk.download('genesis')\n",
    "nltk.download('stopwords')\n",
    "\n",
    "# Load the Genesis corpus\n",
    "genesis_text = genesis.raw()\n",
    "\n",
    "# Tokenize the text\n",
    "tokens = nltk.word_tokenize(genesis_text)\n",
    "\n",
    "# Remove punctuation\n",
    "tokens = [word for word in tokens if word not in string.punctuation]\n",
    "\n",
    "# Remove stopwords\n",
    "stop_words = set(nltk.corpus.stopwords.words('english'))\n",
    "tokens = [word for word in tokens if word.lower() not in stop_words]\n",
    "\n",
    "# Generate bigrams\n",
    "bi_grams = list(bigrams(tokens))\n",
    "\n",
    "# Compute frequency distribution for bigrams\n",
    "bi_grams_freq = FreqDist(bi_grams)\n",
    "\n",
    "# List the top 10 bigrams (you can change the number as per your requirement)\n",
    "top_bigrams = bi_grams_freq.most_common(10)\n",
    "\n",
    "# Print the top bigrams\n",
    "for bigram, freq in top_bigrams:\n",
    "    print(bigram, \":\", freq)\n"
   ]
  },
  {
   "cell_type": "code",
   "execution_count": null,
   "id": "8d29d18c-6d6c-4839-b56c-c222c80598f6",
   "metadata": {},
   "outputs": [],
   "source": [
    "import nltk\n",
    "from nltk.corpus import genesis\n",
    "\n",
    "# Download the Genesis text\n",
    "nltk.download('genesis')\n",
    "\n",
    "# Load the Genesis text\n",
    "genesis_text = genesis.raw('english-web.txt')\n",
    "\n",
    "# Tokenize the text\n",
    "tokens = nltk.word_tokenize(genesis_text)\n",
    "\n",
    "# POS tagging\n",
    "tagged_tokens = nltk.pos_tag(tokens)\n",
    "\n",
    "# Extract prepositional phrases\n",
    "prepositional_phrases = [((word, tag), (next_word, next_tag), (next_next_word, next_next_tag))\n",
    "                         for (word, tag), (next_word, next_tag), (next_next_word, next_next_tag) in\n",
    "                         nltk.trigrams(tagged_tokens)\n",
    "                         if word.lower() == 'in' and next_tag.startswith('VB') and next_next_tag.startswith(('NN', 'NNS'))]\n",
    "\n",
    "# Print prepositional phrases\n",
    "for pp_verb, pp_noun, _ in prepositional_phrases:\n",
    "    print(\"PP Verb:\", pp_verb)\n",
    "    print(\"PP Noun:\", pp_noun)\n",
    "    print()\n"
   ]
  }
 ],
 "metadata": {
  "kernelspec": {
   "display_name": "Python 3 (ipykernel)",
   "language": "python",
   "name": "python3"
  },
  "language_info": {
   "codemirror_mode": {
    "name": "ipython",
    "version": 3
   },
   "file_extension": ".py",
   "mimetype": "text/x-python",
   "name": "python",
   "nbconvert_exporter": "python",
   "pygments_lexer": "ipython3",
   "version": "3.10.5"
  }
 },
 "nbformat": 4,
 "nbformat_minor": 5
}
