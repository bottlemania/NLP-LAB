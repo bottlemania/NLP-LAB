{
 "cells": [
  {
   "cell_type": "code",
   "execution_count": 43,
   "id": "f308e00a-2309-43d2-9d9e-97620150a3ff",
   "metadata": {
    "scrolled": true
   },
   "outputs": [
    {
     "name": "stdout",
     "output_type": "stream",
     "text": [
      "Before smoothing:\n",
      "Prob_f= 0.0\n",
      "Prob_g= 0.25\n",
      "Conclusion: class g\n",
      "After smoothing:\n",
      "Prob_f= 0.0020576131687242796\n",
      "Prob_g= 0.005830903790087463\n",
      "Conclusion: class g\n"
     ]
    }
   ],
   "source": [
    "\n",
    "doc1=\"fish smoked fish\".split(\" \")\n",
    "doc2=\"fish line\".split(\" \")\n",
    "doc3=\"fish haul smoked\".split(\" \")\n",
    "doc4=\"guitar jazz line\".split(\" \")\n",
    "doc5=\"line guitar jazz jazz\".split(\" \")\n",
    "training=[[doc1,'f'],[doc2,'f'],[doc3,'f'],[doc4,'g']]\n",
    "testing=doc5\n",
    "V=len(set(doc1+doc2+doc3+doc4))\n",
    "\n",
    "total_f=0\n",
    "total_g=0\n",
    "\n",
    "for doc,sense in training:\n",
    "    if sense=='f':\n",
    "        total_f=total_f+1\n",
    "    if sense=='g':\n",
    "        total_g=total_g+1\n",
    "        \n",
    "prob_f=total_f/(total_f+total_g)\n",
    "prob_g=total_g/(total_f+total_g)\n",
    "\n",
    "#Before smoothing\n",
    "\n",
    "def calc_prob(word,sense):\n",
    "    total_docs = total_f if sense == 'f' else total_g\n",
    "    count=0\n",
    "    for doc,s in training:\n",
    "        if s==sense and word in doc:\n",
    "            count+=1\n",
    "    return count/total_docs\n",
    "\n",
    "    \n",
    "def prob_class(doc,sense):\n",
    "    prob=prob_f if sense=='f' else prob_g\n",
    "    for word in set(doc):\n",
    "        prob=prob*calc_prob(word,sense)\n",
    "    return prob\n",
    "\n",
    "pc_f=prob_class(doc5,'f')\n",
    "pc_g=prob_class(doc5,'g')   \n",
    "\n",
    "print(\"Before smoothing:\")\n",
    "print(\"Prob_f=\",pc_f)\n",
    "print(\"Prob_g=\",pc_g)\n",
    "\n",
    "if pc_f>pc_g:\n",
    "    print('Conclusion: class f')\n",
    "else:\n",
    "    print('Conclusion: class g')\n",
    "    \n",
    "def smoothing(word,sense):\n",
    "    total_docs = total_f if sense == 'f' else total_g\n",
    "    count=0\n",
    "    for doc,s in training:\n",
    "        if s==sense and word in doc:\n",
    "            count+=1\n",
    "    return (count+1)/(total_docs+V)\n",
    "\n",
    "\n",
    "def prob_class_smoothing(doc,sense):\n",
    "    prob=prob_f if sense=='f' else prob_g\n",
    "    for word in set(doc):\n",
    "        prob=prob*smoothing(word,sense)\n",
    "    return prob\n",
    "    \n",
    "pcs_f=prob_class_smoothing(doc5,'f')\n",
    "pcs_g=prob_class_smoothing(doc5,'g')\n",
    "print(\"After smoothing:\")\n",
    "print(\"Prob_f=\",pcs_f)\n",
    "print(\"Prob_g=\",pcs_g)\n",
    "\n",
    "# After smoothing\n",
    "\n",
    "if pcs_f>pcs_g:\n",
    "    print('Conclusion: class f')\n",
    "else:\n",
    "    print('Conclusion: class g')\n"
   ]
  },
  {
   "cell_type": "code",
   "execution_count": null,
   "id": "b5ff8fb3-36ee-405a-b3e9-b3e5a42bea76",
   "metadata": {},
   "outputs": [],
   "source": []
  }
 ],
 "metadata": {
  "kernelspec": {
   "display_name": "Python 3 (ipykernel)",
   "language": "python",
   "name": "python3"
  },
  "language_info": {
   "codemirror_mode": {
    "name": "ipython",
    "version": 3
   },
   "file_extension": ".py",
   "mimetype": "text/x-python",
   "name": "python",
   "nbconvert_exporter": "python",
   "pygments_lexer": "ipython3",
   "version": "3.10.5"
  }
 },
 "nbformat": 4,
 "nbformat_minor": 5
}
