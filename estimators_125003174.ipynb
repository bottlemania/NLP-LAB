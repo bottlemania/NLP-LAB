{
 "cells": [
  {
   "cell_type": "code",
   "execution_count": null,
   "id": "350073ed",
   "metadata": {},
   "outputs": [],
   "source": []
  },
  {
   "cell_type": "code",
   "execution_count": 35,
   "id": "802afb93",
   "metadata": {},
   "outputs": [],
   "source": [
    "import nltk\n",
    "from nltk.tokenize import word_tokenize"
   ]
  },
  {
   "cell_type": "code",
   "execution_count": 36,
   "id": "e7e0b2cd",
   "metadata": {},
   "outputs": [],
   "source": [
    "def generate_bigrams(words):\n",
    "    bigrams = [(words[i], words[i+1]) for i in range(len(words)-1)]\n",
    "    return bigrams"
   ]
  },
  {
   "cell_type": "code",
   "execution_count": 37,
   "id": "7b493f1d",
   "metadata": {},
   "outputs": [],
   "source": [
    "def freqOfTestinTrain(new_bigrams,bigram_frequency):\n",
    "    freq_testBigrams={}\n",
    "    for bigram in new_bigrams:\n",
    "        if bigram in bigram_frequency:\n",
    "            freq_testBigrams[bigram]=bigram_frequency[bigram]\n",
    "        else:\n",
    "            freq_testBigrams[bigram]=0\n",
    "    return freq_testBigrams"
   ]
  },
  {
   "cell_type": "code",
   "execution_count": 38,
   "id": "e80d23af",
   "metadata": {},
   "outputs": [],
   "source": [
    "def freqOfWordsTest(words_in_sentence,trainword_freq):\n",
    "    testword_freq={}\n",
    "    for word in words_in_sentence:\n",
    "        if word in trainword_freq:\n",
    "            testword_freq[word]=trainword_freq[word]\n",
    "        else:\n",
    "            testword_freq[word]=0\n",
    "    return testword_freq"
   ]
  },
  {
   "cell_type": "code",
   "execution_count": null,
   "id": "8e7ceb04",
   "metadata": {},
   "outputs": [],
   "source": [
    "\n",
    "    "
   ]
  },
  {
   "cell_type": "code",
   "execution_count": 39,
   "id": "83ec6e93",
   "metadata": {},
   "outputs": [],
   "source": [
    "paragraph = open(r\"E:\\125003105\\dataset_AI.txt\", 'r').read()\n",
    "new_sentence=\"The AI technologies has the power to evolve and harness standards for humanity,\""
   ]
  },
  {
   "cell_type": "code",
   "execution_count": 47,
   "id": "51717a9a",
   "metadata": {},
   "outputs": [],
   "source": [
    "words = word_tokenize(paragraph)\n",
    "words_in_sentence= word_tokenize(new_sentence)\n",
    "bigrams = generate_bigrams(words)\n",
    "new_bigrams= generate_bigrams(words_in_sentence)\n",
    "vocabulary_count=len(trainword_freq)"
   ]
  },
  {
   "cell_type": "code",
   "execution_count": 41,
   "id": "b422bd73",
   "metadata": {},
   "outputs": [
    {
     "name": "stdout",
     "output_type": "stream",
     "text": [
      "[('The', 'AI'), ('AI', 'technologies'), ('technologies', 'has'), ('has', 'the'), ('the', 'power'), ('power', 'to'), ('to', 'evolve'), ('evolve', 'and'), ('and', 'harness'), ('harness', 'standards'), ('standards', 'for'), ('for', 'humanity'), ('humanity', ',')]\n"
     ]
    }
   ],
   "source": [
    "print(new_bigrams)"
   ]
  },
  {
   "cell_type": "code",
   "execution_count": 42,
   "id": "7099e54a",
   "metadata": {},
   "outputs": [],
   "source": [
    "bigram_frequency = {}\n",
    "for bigram in bigrams:\n",
    "    bigram_frequency[bigram]=0\n",
    "for bigram in bigrams:\n",
    "    bigram_frequency[bigram] = bigram_frequency[bigram] + 1\n",
    "\n",
    "trainword_freq={}\n",
    "for word in words:\n",
    "    if(word not in trainword_freq):\n",
    "        trainword_freq[word]=1\n",
    "    else:\n",
    "        trainword_freq[word]+=1\n",
    "\n",
    "testword_freq=freqOfWordsTest(words_in_sentence,trainword_freq)"
   ]
  },
  {
   "cell_type": "code",
   "execution_count": 43,
   "id": "21fcc627",
   "metadata": {},
   "outputs": [
    {
     "name": "stdout",
     "output_type": "stream",
     "text": [
      "dict_keys([('The', 'AI'), ('AI', 'technologies'), ('technologies', 'has'), ('has', 'the'), ('the', 'power'), ('power', 'to'), ('to', 'evolve'), ('evolve', 'and'), ('and', 'harness'), ('harness', 'standards'), ('standards', 'for'), ('for', 'humanity'), ('humanity', ',')])\n"
     ]
    }
   ],
   "source": [
    "freq_testBigrams=freqOfTestinTrain(new_bigrams,bigram_frequency)\n",
    "print(freq_testBigrams.keys())"
   ]
  },
  {
   "cell_type": "code",
   "execution_count": 48,
   "id": "27740692",
   "metadata": {},
   "outputs": [],
   "source": [
    "def calculate_mle_probability(freq_testBigrams,testword_freq):\n",
    "    mle=1\n",
    "    for bigram in freq_testBigrams.keys():\n",
    "        mle*=(freq_testBigrams[bigram])/(testword_freq[bigram[0]])\n",
    "    return mle\n",
    "def calculate_laplace(freq_testBigrams,testword_freq,vocabulary_count):\n",
    "    laplace=1\n",
    "    for bigram in freq_testBigrams.keys():\n",
    "        laplace*=(freq_testBigrams[bigram]+1)/(testword_freq[bigram[0]]+vocabulary_count)\n",
    "    return laplace\n",
    "def calculate_lidstone(freq_testBigrams,testword_freq,vocabulary_count):\n",
    "    lidstone=1\n",
    "    for bigram in freq_testBigrams.keys():\n",
    "        lidstone*=(freq_testBigrams[bigram]+0.5)/(testword_freq[bigram[0]]+0.5*vocabulary_count)\n",
    "    return lidstone\n",
    "def calculate_jeffrey(freq_testBigrams,testword_freq,vocabulary_count):\n",
    "    jeffrey=1    \n",
    "    for bigram in freq_testBigrams.keys():\n",
    "        nu=(testword_freq[bigram[0]])/(testword_freq[bigram[0]]+0.5*vocabulary_count)\n",
    "        jeffrey*=(nu*freq_testBigrams[bigram])/(testword_freq[bigram[0]])+((1-nu)/vocabulary_count)\n",
    "    return jeffrey\n",
    "    \n"
   ]
  },
  {
   "cell_type": "code",
   "execution_count": 49,
   "id": "81d8a734",
   "metadata": {},
   "outputs": [],
   "source": [
    "mle_probability = calculate_mle_probability(freq_testBigrams,testword_freq)\n",
    "laplace = calculate_laplace(freq_testBigrams,testword_freq,vocabulary_count)\n",
    "lidstone = calculate_lidstone(freq_testBigrams,testword_freq,vocabulary_count)\n",
    "jeffrey = calculate_jeffrey(freq_testBigrams,testword_freq,vocabulary_count)"
   ]
  },
  {
   "cell_type": "code",
   "execution_count": null,
   "id": "0900566c",
   "metadata": {},
   "outputs": [],
   "source": []
  },
  {
   "cell_type": "code",
   "execution_count": null,
   "id": "62cb44c1",
   "metadata": {},
   "outputs": [],
   "source": []
  },
  {
   "cell_type": "code",
   "execution_count": 50,
   "id": "565d8b71",
   "metadata": {},
   "outputs": [
    {
     "name": "stdout",
     "output_type": "stream",
     "text": [
      "\n",
      "new sentence: The AI technologies has the power to evolve and harness standards for humanity,\n",
      "\n",
      "\n",
      "mle: 0.0\n",
      "\n",
      "\n",
      " laplace: 3.3830060181668414e-30\n",
      "\n",
      "\n",
      " lidstone: 5.266516409479004e-29\n",
      "\n",
      "\n",
      " jeffrey: 5.266516409479004e-29\n",
      "\n"
     ]
    }
   ],
   "source": [
    "print(f\"\\nnew sentence: {new_sentence}\\n\")\n",
    "print(f\"\\nmle: {mle_probability}\\n\")\n",
    "print(f\"\\n laplace: {laplace}\\n\")\n",
    "print(f\"\\n lidstone: {lidstone}\\n\")\n",
    "print(f\"\\n jeffrey: {jeffrey}\\n\")\n"
   ]
  },
  {
   "cell_type": "code",
   "execution_count": null,
   "id": "3b1a3a93",
   "metadata": {},
   "outputs": [],
   "source": []
  }
 ],
 "metadata": {
  "kernelspec": {
   "display_name": "Python 3",
   "language": "python",
   "name": "python3"
  },
  "language_info": {
   "codemirror_mode": {
    "name": "ipython",
    "version": 3
   },
   "file_extension": ".py",
   "mimetype": "text/x-python",
   "name": "python",
   "nbconvert_exporter": "python",
   "pygments_lexer": "ipython3",
   "version": "3.8.8"
  }
 },
 "nbformat": 4,
 "nbformat_minor": 5
}
