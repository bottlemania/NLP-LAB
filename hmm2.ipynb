{
 "cells": [
  {
   "cell_type": "code",
   "execution_count": 2,
   "id": "4dea26d7-d052-4f33-a25c-f6faee871fc9",
   "metadata": {
    "scrolled": true
   },
   "outputs": [
    {
     "ename": "ModuleNotFoundError",
     "evalue": "No module named 'pyAgrum'",
     "output_type": "error",
     "traceback": [
      "\u001b[1;31m---------------------------------------------------------------------------\u001b[0m",
      "\u001b[1;31mModuleNotFoundError\u001b[0m                       Traceback (most recent call last)",
      "Cell \u001b[1;32mIn[2], line 1\u001b[0m\n\u001b[1;32m----> 1\u001b[0m \u001b[38;5;28;01mimport\u001b[39;00m \u001b[38;5;21;01mpyAgrum\u001b[39;00m \u001b[38;5;28;01mas\u001b[39;00m \u001b[38;5;21;01mgum\u001b[39;00m\n\u001b[0;32m      2\u001b[0m \u001b[38;5;28;01mimport\u001b[39;00m \u001b[38;5;21;01mpyAgrum\u001b[39;00m\u001b[38;5;21;01m.\u001b[39;00m\u001b[38;5;21;01mlib\u001b[39;00m\u001b[38;5;21;01m.\u001b[39;00m\u001b[38;5;21;01mnotebook\u001b[39;00m \u001b[38;5;28;01mas\u001b[39;00m \u001b[38;5;21;01mgnb\u001b[39;00m\n\u001b[0;32m      4\u001b[0m \u001b[38;5;66;03m# Create a Bayesian Network\u001b[39;00m\n",
      "\u001b[1;31mModuleNotFoundError\u001b[0m: No module named 'pyAgrum'"
     ]
    }
   ],
   "source": [
    "import pyAgrum as gum\n",
    "import pyAgrum.lib.notebook as gnb\n",
    "\n",
    "# Create a Bayesian Network\n",
    "model = gum.BayesNet('HiddenMarkovModel')\n",
    "\n",
    "# Define the states\n",
    "s1 = model.add(gum.LabelizedVariable('S1', 'State 1', 2))\n",
    "s2 = model.add(gum.LabelizedVariable('S2', 'State 2', 2))\n",
    "\n",
    "# Define the emission probabilities\n",
    "obs1_prob = gum.Potential().fillWith([0.8, 0.2])  # Emission probabilities for State 1\n",
    "obs2_prob = gum.Potential().fillWith([0.5, 0.5])  # Emission probabilities for State 2\n",
    "obs3_prob = gum.Potential().fillWith([0.3, 0.7])  # Emission probabilities for State 3\n",
    "\n",
    "# Add emission probabilities to states\n",
    "model.addArc(s1, s1)\n",
    "model.addArc(s1, s2)\n",
    "model.addArc(s2, s1)\n",
    "model.addArc(s2, s2)\n",
    "\n",
    "model.cpt(s1)[{'S1': 0}] = [0.7, 0.3]\n",
    "model.cpt(s1)[{'S1': 1}] = [0.4, 0.6]\n",
    "model.cpt(s2)[{'S2': 0}] = [0.7, 0.3]\n",
    "model.cpt(s2)[{'S2': 1}] = [0.4, 0.6]\n",
    "\n",
    "# Plot the state diagram\n",
    "gnb.showBN(model)\n",
    "\n",
    "# Compute the probability of a given output sequence\n",
    "output_sequence = {'obs1': 0, 'obs2': 1, 'obs3': 0}  # Observation evidence\n",
    "posterior = gum.LazyPropagation(model).posterior(s1)\n",
    "probability = posterior[output_sequence]\n",
    "print(\"Probability of Output Sequence:\", probability)\n"
   ]
  },
  {
   "cell_type": "code",
   "execution_count": null,
   "id": "128a79a2-3c3c-4931-a198-1f49ea98f773",
   "metadata": {},
   "outputs": [],
   "source": [
    "import numpy as np\n",
    "import matplotlib.pyplot as plt\n",
    "import networkx as nx\n",
    "\n",
    "# Define transition probabilities between states\n",
    "transition_matrix = np.array([[0.7, 0.3],  # Transition probabilities from 'Coffee preferred' state\n",
    "                               [0.5, 0.5]])  # Transition probabilities from 'Iced Tea preferred' state\n",
    "\n",
    "# Define emission observation probabilities\n",
    "emission_probs = {'Coffee preferred': {'Coffee': 0.6, 'Iced Tea': 0.1, 'Lemonade': 0.3},\n",
    "                  'Iced Tea preferred': {'Coffee': 0.1, 'Iced Tea': 0.7, 'Lemonade': 0.2}}\n",
    "\n",
    "# Define states and emission observations\n",
    "states = ['Coffee preferred', 'Iced Tea preferred']\n",
    "observations = ['Coffee', 'Iced Tea', 'Lemonade']\n",
    "\n",
    "# Create directed graph\n",
    "G = nx.DiGraph()\n",
    "G.add_nodes_from(states)\n",
    "\n",
    "# Add edges with transition probabilities as labels\n",
    "for i, source in enumerate(states):\n",
    "    for j, target in enumerate(states):\n",
    "        transition_prob = transition_matrix[i, j]\n",
    "        G.add_edge(source, target, label=f\"{transition_prob:.2f}\")  # Format probability to two decimal places\n",
    "\n",
    "# Draw graph\n",
    "pos = nx.spring_layout(G)\n",
    "nx.draw(G, pos, with_labels=True, node_size=1500, node_color=\"skyblue\", font_size=12, font_weight=\"bold\", arrows=True)\n",
    "edge_labels = nx.get_edge_attributes(G, 'label')\n",
    "nx.draw_networkx_edge_labels(G, pos, edge_labels=edge_labels)\n",
    "\n",
    "# Show plot\n",
    "plt.title(\"State Diagram for HMM\")\n",
    "plt.show()\n"
   ]
  },
  {
   "cell_type": "code",
   "execution_count": null,
   "id": "e9d055ad",
   "metadata": {},
   "outputs": [],
   "source": []
  }
 ],
 "metadata": {
  "kernelspec": {
   "display_name": "Python 3 (ipykernel)",
   "language": "python",
   "name": "python3"
  },
  "language_info": {
   "codemirror_mode": {
    "name": "ipython",
    "version": 3
   },
   "file_extension": ".py",
   "mimetype": "text/x-python",
   "name": "python",
   "nbconvert_exporter": "python",
   "pygments_lexer": "ipython3",
   "version": "3.11.5"
  }
 },
 "nbformat": 4,
 "nbformat_minor": 5
}
