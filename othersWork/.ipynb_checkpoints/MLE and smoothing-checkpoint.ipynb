{
 "cells": [
  {
   "cell_type": "code",
   "execution_count": 6,
   "id": "802afb93",
   "metadata": {},
   "outputs": [],
   "source": [
    "import nltk\n",
    "from nltk.tokenize import word_tokenize\n"
   ]
  },
  {
   "cell_type": "code",
   "execution_count": 7,
   "id": "e7e0b2cd",
   "metadata": {},
   "outputs": [],
   "source": [
    "def generate_bigrams(words):\n",
    "    bigrams = [(words[i], words[i+1]) for i in range(len(words)-1)]\n",
    "    return bigrams"
   ]
  },
  {
   "cell_type": "code",
   "execution_count": 8,
   "id": "7b493f1d",
   "metadata": {},
   "outputs": [],
   "source": [
    "def freqOfTestinTrain(new_bigrams,bigram_frequency):\n",
    "    freq_testBigrams={}\n",
    "    for bigram in new_bigrams:\n",
    "        if bigram in bigram_frequency:\n",
    "            freq_testBigrams[bigram]=bigram_frequency[bigram]\n",
    "        else:\n",
    "            freq_testBigrams[bigram]=0\n",
    "    return freq_testBigrams"
   ]
  },
  {
   "cell_type": "code",
   "execution_count": 9,
   "id": "e80d23af",
   "metadata": {},
   "outputs": [],
   "source": [
    "def freqOfWordsTest(words_in_sentence,trainword_freq):\n",
    "    testword_freq={}\n",
    "    for word in words_in_sentence:\n",
    "        if word in trainword_freq:\n",
    "            testword_freq[word]=trainword_freq[word]\n",
    "        else:\n",
    "            testword_freq[word]=0\n",
    "    return testword_freq"
   ]
  },
  {
   "cell_type": "code",
   "execution_count": 10,
   "id": "83ec6e93",
   "metadata": {},
   "outputs": [],
   "source": [
    "paragraph = open(r\"W:\\SEM 6\\NLP Lab\\NLP-LAB\\othersWork\\nlpsample.txt\", 'r').read()\n",
    "new_sentence=\"first rays of sunlight gently kiss awakening to the promise of a new day\""
   ]
  },
  {
   "cell_type": "code",
   "execution_count": 11,
   "id": "51717a9a",
   "metadata": {},
   "outputs": [
    {
     "ename": "NameError",
     "evalue": "name 'trainword_freq' is not defined",
     "output_type": "error",
     "traceback": [
      "\u001b[1;31m---------------------------------------------------------------------------\u001b[0m",
      "\u001b[1;31mNameError\u001b[0m                                 Traceback (most recent call last)",
      "Cell \u001b[1;32mIn[11], line 5\u001b[0m\n\u001b[0;32m      3\u001b[0m bigrams \u001b[38;5;241m=\u001b[39m generate_bigrams(words)\n\u001b[0;32m      4\u001b[0m new_bigrams\u001b[38;5;241m=\u001b[39m generate_bigrams(words_in_sentence)\n\u001b[1;32m----> 5\u001b[0m vocabulary_count\u001b[38;5;241m=\u001b[39m\u001b[38;5;28mlen\u001b[39m(trainword_freq)\n",
      "\u001b[1;31mNameError\u001b[0m: name 'trainword_freq' is not defined"
     ]
    }
   ],
   "source": [
    "words = word_tokenize(paragraph)\n",
    "words_in_sentence= word_tokenize(new_sentence)\n",
    "bigrams = generate_bigrams(words)\n",
    "new_bigrams= generate_bigrams(words_in_sentence)\n",
    "vocabulary_count=len(trainword_freq)"
   ]
  },
  {
   "cell_type": "code",
   "execution_count": null,
   "id": "b422bd73",
   "metadata": {},
   "outputs": [],
   "source": [
    "print(new_bigrams)"
   ]
  },
  {
   "cell_type": "code",
   "execution_count": null,
   "id": "7099e54a",
   "metadata": {},
   "outputs": [],
   "source": [
    "bigram_frequency = {}\n",
    "for bigram in bigrams:\n",
    "    bigram_frequency[bigram]=0\n",
    "for bigram in bigrams:\n",
    "    bigram_frequency[bigram] = bigram_frequency[bigram] + 1\n",
    "\n",
    "trainword_freq={}\n",
    "for word in words:\n",
    "    if(word not in trainword_freq):\n",
    "        trainword_freq[word]=1\n",
    "    else:\n",
    "        trainword_freq[word]+=1\n",
    "\n",
    "testword_freq=freqOfWordsTest(words_in_sentence,trainword_freq)"
   ]
  },
  {
   "cell_type": "code",
   "execution_count": null,
   "id": "21fcc627",
   "metadata": {},
   "outputs": [],
   "source": [
    "freq_testBigrams=freqOfTestinTrain(new_bigrams,bigram_frequency)\n",
    "print(freq_testBigrams.keys())"
   ]
  },
  {
   "cell_type": "code",
   "execution_count": null,
   "id": "27740692",
   "metadata": {},
   "outputs": [],
   "source": [
    "def calculate_mle_probability(freq_testBigrams,testword_freq):\n",
    "    mle=1\n",
    "    for bigram in freq_testBigrams.keys():\n",
    "        mle*=(freq_testBigrams[bigram])/(testword_freq[bigram[0]])\n",
    "    return mle\n",
    "def calculate_laplace(freq_testBigrams,testword_freq,vocabulary_count):\n",
    "    laplace=1\n",
    "    for bigram in freq_testBigrams.keys():\n",
    "        laplace*=(freq_testBigrams[bigram]+1)/(testword_freq[bigram[0]]+vocabulary_count)\n",
    "    return laplace\n",
    "def calculate_lidstone(freq_testBigrams,testword_freq,vocabulary_count):\n",
    "    lidstone=1\n",
    "    for bigram in freq_testBigrams.keys():\n",
    "        lidstone*=(freq_testBigrams[bigram]+0.5)/(testword_freq[bigram[0]]+0.5*vocabulary_count)\n",
    "    return lidstone\n",
    "def calculate_jeffrey(freq_testBigrams,testword_freq,vocabulary_count):\n",
    "    jeffrey=1    \n",
    "    for bigram in freq_testBigrams.keys():\n",
    "        nu=(testword_freq[bigram[0]])/(testword_freq[bigram[0]]+0.5*vocabulary_count)\n",
    "        jeffrey*=(nu*freq_testBigrams[bigram])/(testword_freq[bigram[0]])+((1-nu)/vocabulary_count)\n",
    "    return jeffrey\n",
    "    \n"
   ]
  },
  {
   "cell_type": "code",
   "execution_count": null,
   "id": "81d8a734",
   "metadata": {},
   "outputs": [],
   "source": [
    "mle_probability = calculate_mle_probability(freq_testBigrams,testword_freq)\n",
    "laplace = calculate_laplace(freq_testBigrams,testword_freq,vocabulary_count)\n",
    "lidstone = calculate_lidstone(freq_testBigrams,testword_freq,vocabulary_count)\n",
    "jeffrey = calculate_jeffrey(freq_testBigrams,testword_freq,vocabulary_count)"
   ]
  },
  {
   "cell_type": "code",
   "execution_count": null,
   "id": "0900566c",
   "metadata": {},
   "outputs": [],
   "source": []
  },
  {
   "cell_type": "code",
   "execution_count": null,
   "id": "62cb44c1",
   "metadata": {},
   "outputs": [],
   "source": []
  },
  {
   "cell_type": "code",
   "execution_count": null,
   "id": "565d8b71",
   "metadata": {},
   "outputs": [],
   "source": [
    "print(\"new sentence: {new_sentence}\\n\")\n",
    "print(\"mle: {mle_probability}\\n\")\n",
    "print(\"laplace: {laplace}\\n\")\n",
    "print(\"lidstone: {lidstone}\\n\")\n",
    "print(\"jeffrey: {jeffrey}\\n\")\n"
   ]
  },
  {
   "cell_type": "code",
   "execution_count": null,
   "id": "3b1a3a93",
   "metadata": {},
   "outputs": [],
   "source": [
    "import nltk\n",
    "nltk.download()"
   ]
  }
 ],
 "metadata": {
  "kernelspec": {
   "display_name": "Python 3 (ipykernel)",
   "language": "python",
   "name": "python3"
  },
  "language_info": {
   "codemirror_mode": {
    "name": "ipython",
    "version": 3
   },
   "file_extension": ".py",
   "mimetype": "text/x-python",
   "name": "python",
   "nbconvert_exporter": "python",
   "pygments_lexer": "ipython3",
   "version": "3.11.5"
  }
 },
 "nbformat": 4,
 "nbformat_minor": 5
}
