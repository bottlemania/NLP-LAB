{
 "cells": [
  {
   "cell_type": "code",
   "execution_count": 14,
   "id": "802afb93",
   "metadata": {},
   "outputs": [],
   "source": [
    "import nltk\n",
    "from nltk.tokenize import word_tokenize\n"
   ]
  },
  {
   "cell_type": "code",
   "execution_count": 15,
   "id": "e7e0b2cd",
   "metadata": {},
   "outputs": [],
   "source": [
    "def generate_bigrams(words):\n",
    "    bigrams = [(words[i], words[i+1]) for i in range(len(words)-1)]\n",
    "    return bigrams"
   ]
  },
  {
   "cell_type": "code",
   "execution_count": 16,
   "id": "7b493f1d",
   "metadata": {},
   "outputs": [],
   "source": [
    "def freqOfTestinTrain(new_bigrams,bigram_frequency):\n",
    "    freq_testBigrams={}\n",
    "    for bigram in new_bigrams:\n",
    "        if bigram in bigram_frequency:\n",
    "            freq_testBigrams[bigram]=bigram_frequency[bigram]\n",
    "        else:\n",
    "            freq_testBigrams[bigram]=0\n",
    "    return freq_testBigrams"
   ]
  },
  {
   "cell_type": "code",
   "execution_count": 17,
   "id": "e80d23af",
   "metadata": {},
   "outputs": [],
   "source": [
    "def freqOfWordsTest(words_in_sentence,trainword_freq):\n",
    "    testword_freq={}\n",
    "    for word in words_in_sentence:\n",
    "        if word in trainword_freq:\n",
    "            testword_freq[word]=trainword_freq[word]\n",
    "        else:\n",
    "            testword_freq[word]=0\n",
    "    return testword_freq"
   ]
  },
  {
   "cell_type": "code",
   "execution_count": 18,
   "id": "83ec6e93",
   "metadata": {},
   "outputs": [],
   "source": [
    "paragraph = open(r\"C:\\Users\\DELL\\Downloads\\nlpsample.txt\", 'r').read()\n",
    "new_sentence=\"first rays of sunlight gently kiss awakening to the promise of a new day\""
   ]
  },
  {
   "cell_type": "code",
   "execution_count": 19,
   "id": "51717a9a",
   "metadata": {},
   "outputs": [
    {
     "ename": "LookupError",
     "evalue": "\n**********************************************************************\n  Resource \u001b[93mpunkt\u001b[0m not found.\n  Please use the NLTK Downloader to obtain the resource:\n\n  \u001b[31m>>> import nltk\n  >>> nltk.download('punkt')\n  \u001b[0m\n  For more information see: https://www.nltk.org/data.html\n\n  Attempted to load \u001b[93mtokenizers/punkt/english.pickle\u001b[0m\n\n  Searched in:\n    - 'C:\\\\Users\\\\DELL/nltk_data'\n    - 'C:\\\\Users\\\\DELL\\\\anaconda3\\\\nltk_data'\n    - 'C:\\\\Users\\\\DELL\\\\anaconda3\\\\share\\\\nltk_data'\n    - 'C:\\\\Users\\\\DELL\\\\anaconda3\\\\lib\\\\nltk_data'\n    - 'C:\\\\Users\\\\DELL\\\\AppData\\\\Roaming\\\\nltk_data'\n    - 'C:\\\\nltk_data'\n    - 'D:\\\\nltk_data'\n    - 'E:\\\\nltk_data'\n    - ''\n**********************************************************************\n",
     "output_type": "error",
     "traceback": [
      "\u001b[1;31m---------------------------------------------------------------------------\u001b[0m",
      "\u001b[1;31mLookupError\u001b[0m                               Traceback (most recent call last)",
      "Cell \u001b[1;32mIn[19], line 1\u001b[0m\n\u001b[1;32m----> 1\u001b[0m words \u001b[38;5;241m=\u001b[39m \u001b[43mword_tokenize\u001b[49m\u001b[43m(\u001b[49m\u001b[43mparagraph\u001b[49m\u001b[43m)\u001b[49m\n\u001b[0;32m      2\u001b[0m words_in_sentence\u001b[38;5;241m=\u001b[39m word_tokenize(new_sentence)\n\u001b[0;32m      3\u001b[0m bigrams \u001b[38;5;241m=\u001b[39m generate_bigrams(words)\n",
      "File \u001b[1;32m~\\anaconda3\\lib\\site-packages\\nltk\\tokenize\\__init__.py:129\u001b[0m, in \u001b[0;36mword_tokenize\u001b[1;34m(text, language, preserve_line)\u001b[0m\n\u001b[0;32m    114\u001b[0m \u001b[38;5;28;01mdef\u001b[39;00m \u001b[38;5;21mword_tokenize\u001b[39m(text, language\u001b[38;5;241m=\u001b[39m\u001b[38;5;124m\"\u001b[39m\u001b[38;5;124menglish\u001b[39m\u001b[38;5;124m\"\u001b[39m, preserve_line\u001b[38;5;241m=\u001b[39m\u001b[38;5;28;01mFalse\u001b[39;00m):\n\u001b[0;32m    115\u001b[0m     \u001b[38;5;124;03m\"\"\"\u001b[39;00m\n\u001b[0;32m    116\u001b[0m \u001b[38;5;124;03m    Return a tokenized copy of *text*,\u001b[39;00m\n\u001b[0;32m    117\u001b[0m \u001b[38;5;124;03m    using NLTK's recommended word tokenizer\u001b[39;00m\n\u001b[1;32m   (...)\u001b[0m\n\u001b[0;32m    127\u001b[0m \u001b[38;5;124;03m    :type preserve_line: bool\u001b[39;00m\n\u001b[0;32m    128\u001b[0m \u001b[38;5;124;03m    \"\"\"\u001b[39;00m\n\u001b[1;32m--> 129\u001b[0m     sentences \u001b[38;5;241m=\u001b[39m [text] \u001b[38;5;28;01mif\u001b[39;00m preserve_line \u001b[38;5;28;01melse\u001b[39;00m \u001b[43msent_tokenize\u001b[49m\u001b[43m(\u001b[49m\u001b[43mtext\u001b[49m\u001b[43m,\u001b[49m\u001b[43m \u001b[49m\u001b[43mlanguage\u001b[49m\u001b[43m)\u001b[49m\n\u001b[0;32m    130\u001b[0m     \u001b[38;5;28;01mreturn\u001b[39;00m [\n\u001b[0;32m    131\u001b[0m         token \u001b[38;5;28;01mfor\u001b[39;00m sent \u001b[38;5;129;01min\u001b[39;00m sentences \u001b[38;5;28;01mfor\u001b[39;00m token \u001b[38;5;129;01min\u001b[39;00m _treebank_word_tokenizer\u001b[38;5;241m.\u001b[39mtokenize(sent)\n\u001b[0;32m    132\u001b[0m     ]\n",
      "File \u001b[1;32m~\\anaconda3\\lib\\site-packages\\nltk\\tokenize\\__init__.py:106\u001b[0m, in \u001b[0;36msent_tokenize\u001b[1;34m(text, language)\u001b[0m\n\u001b[0;32m     96\u001b[0m \u001b[38;5;28;01mdef\u001b[39;00m \u001b[38;5;21msent_tokenize\u001b[39m(text, language\u001b[38;5;241m=\u001b[39m\u001b[38;5;124m\"\u001b[39m\u001b[38;5;124menglish\u001b[39m\u001b[38;5;124m\"\u001b[39m):\n\u001b[0;32m     97\u001b[0m     \u001b[38;5;124;03m\"\"\"\u001b[39;00m\n\u001b[0;32m     98\u001b[0m \u001b[38;5;124;03m    Return a sentence-tokenized copy of *text*,\u001b[39;00m\n\u001b[0;32m     99\u001b[0m \u001b[38;5;124;03m    using NLTK's recommended sentence tokenizer\u001b[39;00m\n\u001b[1;32m   (...)\u001b[0m\n\u001b[0;32m    104\u001b[0m \u001b[38;5;124;03m    :param language: the model name in the Punkt corpus\u001b[39;00m\n\u001b[0;32m    105\u001b[0m \u001b[38;5;124;03m    \"\"\"\u001b[39;00m\n\u001b[1;32m--> 106\u001b[0m     tokenizer \u001b[38;5;241m=\u001b[39m \u001b[43mload\u001b[49m\u001b[43m(\u001b[49m\u001b[38;5;124;43mf\u001b[39;49m\u001b[38;5;124;43m\"\u001b[39;49m\u001b[38;5;124;43mtokenizers/punkt/\u001b[39;49m\u001b[38;5;132;43;01m{\u001b[39;49;00m\u001b[43mlanguage\u001b[49m\u001b[38;5;132;43;01m}\u001b[39;49;00m\u001b[38;5;124;43m.pickle\u001b[39;49m\u001b[38;5;124;43m\"\u001b[39;49m\u001b[43m)\u001b[49m\n\u001b[0;32m    107\u001b[0m     \u001b[38;5;28;01mreturn\u001b[39;00m tokenizer\u001b[38;5;241m.\u001b[39mtokenize(text)\n",
      "File \u001b[1;32m~\\anaconda3\\lib\\site-packages\\nltk\\data.py:750\u001b[0m, in \u001b[0;36mload\u001b[1;34m(resource_url, format, cache, verbose, logic_parser, fstruct_reader, encoding)\u001b[0m\n\u001b[0;32m    747\u001b[0m     \u001b[38;5;28mprint\u001b[39m(\u001b[38;5;124mf\u001b[39m\u001b[38;5;124m\"\u001b[39m\u001b[38;5;124m<<Loading \u001b[39m\u001b[38;5;132;01m{\u001b[39;00mresource_url\u001b[38;5;132;01m}\u001b[39;00m\u001b[38;5;124m>>\u001b[39m\u001b[38;5;124m\"\u001b[39m)\n\u001b[0;32m    749\u001b[0m \u001b[38;5;66;03m# Load the resource.\u001b[39;00m\n\u001b[1;32m--> 750\u001b[0m opened_resource \u001b[38;5;241m=\u001b[39m \u001b[43m_open\u001b[49m\u001b[43m(\u001b[49m\u001b[43mresource_url\u001b[49m\u001b[43m)\u001b[49m\n\u001b[0;32m    752\u001b[0m \u001b[38;5;28;01mif\u001b[39;00m \u001b[38;5;28mformat\u001b[39m \u001b[38;5;241m==\u001b[39m \u001b[38;5;124m\"\u001b[39m\u001b[38;5;124mraw\u001b[39m\u001b[38;5;124m\"\u001b[39m:\n\u001b[0;32m    753\u001b[0m     resource_val \u001b[38;5;241m=\u001b[39m opened_resource\u001b[38;5;241m.\u001b[39mread()\n",
      "File \u001b[1;32m~\\anaconda3\\lib\\site-packages\\nltk\\data.py:876\u001b[0m, in \u001b[0;36m_open\u001b[1;34m(resource_url)\u001b[0m\n\u001b[0;32m    873\u001b[0m protocol, path_ \u001b[38;5;241m=\u001b[39m split_resource_url(resource_url)\n\u001b[0;32m    875\u001b[0m \u001b[38;5;28;01mif\u001b[39;00m protocol \u001b[38;5;129;01mis\u001b[39;00m \u001b[38;5;28;01mNone\u001b[39;00m \u001b[38;5;129;01mor\u001b[39;00m protocol\u001b[38;5;241m.\u001b[39mlower() \u001b[38;5;241m==\u001b[39m \u001b[38;5;124m\"\u001b[39m\u001b[38;5;124mnltk\u001b[39m\u001b[38;5;124m\"\u001b[39m:\n\u001b[1;32m--> 876\u001b[0m     \u001b[38;5;28;01mreturn\u001b[39;00m \u001b[43mfind\u001b[49m\u001b[43m(\u001b[49m\u001b[43mpath_\u001b[49m\u001b[43m,\u001b[49m\u001b[43m \u001b[49m\u001b[43mpath\u001b[49m\u001b[43m \u001b[49m\u001b[38;5;241;43m+\u001b[39;49m\u001b[43m \u001b[49m\u001b[43m[\u001b[49m\u001b[38;5;124;43m\"\u001b[39;49m\u001b[38;5;124;43m\"\u001b[39;49m\u001b[43m]\u001b[49m\u001b[43m)\u001b[49m\u001b[38;5;241m.\u001b[39mopen()\n\u001b[0;32m    877\u001b[0m \u001b[38;5;28;01melif\u001b[39;00m protocol\u001b[38;5;241m.\u001b[39mlower() \u001b[38;5;241m==\u001b[39m \u001b[38;5;124m\"\u001b[39m\u001b[38;5;124mfile\u001b[39m\u001b[38;5;124m\"\u001b[39m:\n\u001b[0;32m    878\u001b[0m     \u001b[38;5;66;03m# urllib might not use mode='rb', so handle this one ourselves:\u001b[39;00m\n\u001b[0;32m    879\u001b[0m     \u001b[38;5;28;01mreturn\u001b[39;00m find(path_, [\u001b[38;5;124m\"\u001b[39m\u001b[38;5;124m\"\u001b[39m])\u001b[38;5;241m.\u001b[39mopen()\n",
      "File \u001b[1;32m~\\anaconda3\\lib\\site-packages\\nltk\\data.py:583\u001b[0m, in \u001b[0;36mfind\u001b[1;34m(resource_name, paths)\u001b[0m\n\u001b[0;32m    581\u001b[0m sep \u001b[38;5;241m=\u001b[39m \u001b[38;5;124m\"\u001b[39m\u001b[38;5;124m*\u001b[39m\u001b[38;5;124m\"\u001b[39m \u001b[38;5;241m*\u001b[39m \u001b[38;5;241m70\u001b[39m\n\u001b[0;32m    582\u001b[0m resource_not_found \u001b[38;5;241m=\u001b[39m \u001b[38;5;124mf\u001b[39m\u001b[38;5;124m\"\u001b[39m\u001b[38;5;130;01m\\n\u001b[39;00m\u001b[38;5;132;01m{\u001b[39;00msep\u001b[38;5;132;01m}\u001b[39;00m\u001b[38;5;130;01m\\n\u001b[39;00m\u001b[38;5;132;01m{\u001b[39;00mmsg\u001b[38;5;132;01m}\u001b[39;00m\u001b[38;5;130;01m\\n\u001b[39;00m\u001b[38;5;132;01m{\u001b[39;00msep\u001b[38;5;132;01m}\u001b[39;00m\u001b[38;5;130;01m\\n\u001b[39;00m\u001b[38;5;124m\"\u001b[39m\n\u001b[1;32m--> 583\u001b[0m \u001b[38;5;28;01mraise\u001b[39;00m \u001b[38;5;167;01mLookupError\u001b[39;00m(resource_not_found)\n",
      "\u001b[1;31mLookupError\u001b[0m: \n**********************************************************************\n  Resource \u001b[93mpunkt\u001b[0m not found.\n  Please use the NLTK Downloader to obtain the resource:\n\n  \u001b[31m>>> import nltk\n  >>> nltk.download('punkt')\n  \u001b[0m\n  For more information see: https://www.nltk.org/data.html\n\n  Attempted to load \u001b[93mtokenizers/punkt/english.pickle\u001b[0m\n\n  Searched in:\n    - 'C:\\\\Users\\\\DELL/nltk_data'\n    - 'C:\\\\Users\\\\DELL\\\\anaconda3\\\\nltk_data'\n    - 'C:\\\\Users\\\\DELL\\\\anaconda3\\\\share\\\\nltk_data'\n    - 'C:\\\\Users\\\\DELL\\\\anaconda3\\\\lib\\\\nltk_data'\n    - 'C:\\\\Users\\\\DELL\\\\AppData\\\\Roaming\\\\nltk_data'\n    - 'C:\\\\nltk_data'\n    - 'D:\\\\nltk_data'\n    - 'E:\\\\nltk_data'\n    - ''\n**********************************************************************\n"
     ]
    }
   ],
   "source": [
    "words = word_tokenize(paragraph)\n",
    "words_in_sentence= word_tokenize(new_sentence)\n",
    "bigrams = generate_bigrams(words)\n",
    "new_bigrams= generate_bigrams(words_in_sentence)\n",
    "vocabulary_count=len(trainword_freq)"
   ]
  },
  {
   "cell_type": "code",
   "execution_count": 41,
   "id": "b422bd73",
   "metadata": {},
   "outputs": [
    {
     "name": "stdout",
     "output_type": "stream",
     "text": [
      "[('The', 'AI'), ('AI', 'technologies'), ('technologies', 'has'), ('has', 'the'), ('the', 'power'), ('power', 'to'), ('to', 'evolve'), ('evolve', 'and'), ('and', 'harness'), ('harness', 'standards'), ('standards', 'for'), ('for', 'humanity'), ('humanity', ',')]\n"
     ]
    }
   ],
   "source": [
    "print(new_bigrams)"
   ]
  },
  {
   "cell_type": "code",
   "execution_count": 42,
   "id": "7099e54a",
   "metadata": {},
   "outputs": [],
   "source": [
    "bigram_frequency = {}\n",
    "for bigram in bigrams:\n",
    "    bigram_frequency[bigram]=0\n",
    "for bigram in bigrams:\n",
    "    bigram_frequency[bigram] = bigram_frequency[bigram] + 1\n",
    "\n",
    "trainword_freq={}\n",
    "for word in words:\n",
    "    if(word not in trainword_freq):\n",
    "        trainword_freq[word]=1\n",
    "    else:\n",
    "        trainword_freq[word]+=1\n",
    "\n",
    "testword_freq=freqOfWordsTest(words_in_sentence,trainword_freq)"
   ]
  },
  {
   "cell_type": "code",
   "execution_count": 43,
   "id": "21fcc627",
   "metadata": {},
   "outputs": [
    {
     "name": "stdout",
     "output_type": "stream",
     "text": [
      "dict_keys([('The', 'AI'), ('AI', 'technologies'), ('technologies', 'has'), ('has', 'the'), ('the', 'power'), ('power', 'to'), ('to', 'evolve'), ('evolve', 'and'), ('and', 'harness'), ('harness', 'standards'), ('standards', 'for'), ('for', 'humanity'), ('humanity', ',')])\n"
     ]
    }
   ],
   "source": [
    "freq_testBigrams=freqOfTestinTrain(new_bigrams,bigram_frequency)\n",
    "print(freq_testBigrams.keys())"
   ]
  },
  {
   "cell_type": "code",
   "execution_count": 48,
   "id": "27740692",
   "metadata": {},
   "outputs": [],
   "source": [
    "def calculate_mle_probability(freq_testBigrams,testword_freq):\n",
    "    mle=1\n",
    "    for bigram in freq_testBigrams.keys():\n",
    "        mle*=(freq_testBigrams[bigram])/(testword_freq[bigram[0]])\n",
    "    return mle\n",
    "def calculate_laplace(freq_testBigrams,testword_freq,vocabulary_count):\n",
    "    laplace=1\n",
    "    for bigram in freq_testBigrams.keys():\n",
    "        laplace*=(freq_testBigrams[bigram]+1)/(testword_freq[bigram[0]]+vocabulary_count)\n",
    "    return laplace\n",
    "def calculate_lidstone(freq_testBigrams,testword_freq,vocabulary_count):\n",
    "    lidstone=1\n",
    "    for bigram in freq_testBigrams.keys():\n",
    "        lidstone*=(freq_testBigrams[bigram]+0.5)/(testword_freq[bigram[0]]+0.5*vocabulary_count)\n",
    "    return lidstone\n",
    "def calculate_jeffrey(freq_testBigrams,testword_freq,vocabulary_count):\n",
    "    jeffrey=1    \n",
    "    for bigram in freq_testBigrams.keys():\n",
    "        nu=(testword_freq[bigram[0]])/(testword_freq[bigram[0]]+0.5*vocabulary_count)\n",
    "        jeffrey*=(nu*freq_testBigrams[bigram])/(testword_freq[bigram[0]])+((1-nu)/vocabulary_count)\n",
    "    return jeffrey\n",
    "    \n"
   ]
  },
  {
   "cell_type": "code",
   "execution_count": 49,
   "id": "81d8a734",
   "metadata": {},
   "outputs": [],
   "source": [
    "mle_probability = calculate_mle_probability(freq_testBigrams,testword_freq)\n",
    "laplace = calculate_laplace(freq_testBigrams,testword_freq,vocabulary_count)\n",
    "lidstone = calculate_lidstone(freq_testBigrams,testword_freq,vocabulary_count)\n",
    "jeffrey = calculate_jeffrey(freq_testBigrams,testword_freq,vocabulary_count)"
   ]
  },
  {
   "cell_type": "code",
   "execution_count": null,
   "id": "0900566c",
   "metadata": {},
   "outputs": [],
   "source": []
  },
  {
   "cell_type": "code",
   "execution_count": null,
   "id": "62cb44c1",
   "metadata": {},
   "outputs": [],
   "source": []
  },
  {
   "cell_type": "code",
   "execution_count": 50,
   "id": "565d8b71",
   "metadata": {},
   "outputs": [
    {
     "name": "stdout",
     "output_type": "stream",
     "text": [
      "\n",
      "new sentence: The AI technologies has the power to evolve and harness standards for humanity,\n",
      "\n",
      "\n",
      "mle: 0.0\n",
      "\n",
      "\n",
      " laplace: 3.3830060181668414e-30\n",
      "\n",
      "\n",
      " lidstone: 5.266516409479004e-29\n",
      "\n",
      "\n",
      " jeffrey: 5.266516409479004e-29\n",
      "\n"
     ]
    }
   ],
   "source": [
    "print(\"new sentence: {new_sentence}\\n\")\n",
    "print(\"mle: {mle_probability}\\n\")\n",
    "print(\"laplace: {laplace}\\n\")\n",
    "print(\"lidstone: {lidstone}\\n\")\n",
    "print(\"jeffrey: {jeffrey}\\n\")\n"
   ]
  },
  {
   "cell_type": "code",
   "execution_count": null,
   "id": "3b1a3a93",
   "metadata": {},
   "outputs": [
    {
     "name": "stdout",
     "output_type": "stream",
     "text": [
      "showing info https://raw.githubusercontent.com/nltk/nltk_data/gh-pages/index.xml\n"
     ]
    }
   ],
   "source": [
    "import nltk\n",
    "nltk.download()"
   ]
  }
 ],
 "metadata": {
  "kernelspec": {
   "display_name": "Python 3 (ipykernel)",
   "language": "python",
   "name": "python3"
  },
  "language_info": {
   "codemirror_mode": {
    "name": "ipython",
    "version": 3
   },
   "file_extension": ".py",
   "mimetype": "text/x-python",
   "name": "python",
   "nbconvert_exporter": "python",
   "pygments_lexer": "ipython3",
   "version": "3.10.9"
  }
 },
 "nbformat": 4,
 "nbformat_minor": 5
}
